{
  "nbformat": 4,
  "nbformat_minor": 0,
  "metadata": {
    "colab": {
      "provenance": [],
      "authorship_tag": "ABX9TyNlDDdlUaeHVyEGMfQU9vmM",
      "include_colab_link": true
    },
    "kernelspec": {
      "name": "python3",
      "display_name": "Python 3"
    },
    "language_info": {
      "name": "python"
    }
  },
  "cells": [
    {
      "cell_type": "markdown",
      "metadata": {
        "id": "view-in-github",
        "colab_type": "text"
      },
      "source": [
        "<a href=\"https://colab.research.google.com/github/kathirvel-G/pyspark/blob/main/fraud_detection.ipynb\" target=\"_parent\"><img src=\"https://colab.research.google.com/assets/colab-badge.svg\" alt=\"Open In Colab\"/></a>"
      ]
    },
    {
      "cell_type": "markdown",
      "source": [
        "# Fraud Detection in Orders"
      ],
      "metadata": {
        "id": "vINRvnUBjsMB"
      }
    },
    {
      "cell_type": "markdown",
      "source": [
        "This project focuses on detecting fraudulent orders based on unusual patterns in the data by using anomaly detection, decision trees, and random forests to classify fraud(fake)."
      ],
      "metadata": {
        "id": "HZwrS4dVjt0L"
      }
    },
    {
      "cell_type": "markdown",
      "source": [
        "## Goal:"
      ],
      "metadata": {
        "id": "FaKcQE1_jyv_"
      }
    },
    {
      "cell_type": "markdown",
      "source": [
        "To prevent financial losses due to fraudulent transactions."
      ],
      "metadata": {
        "id": "SMQzFsl2j2J0"
      }
    },
    {
      "cell_type": "markdown",
      "source": [
        "## Libraries:"
      ],
      "metadata": {
        "id": "mQjEU7zVj9Xe"
      }
    },
    {
      "cell_type": "markdown",
      "source": [
        "We'll use PySpark for distributed processing and MLlib for machine learning."
      ],
      "metadata": {
        "id": "lCGwR2mEkGSI"
      }
    },
    {
      "cell_type": "markdown",
      "source": [
        "## Environment Setup"
      ],
      "metadata": {
        "id": "aYt0XZytkJeE"
      }
    },
    {
      "cell_type": "code",
      "source": [
        "!pip install pyspark"
      ],
      "metadata": {
        "colab": {
          "base_uri": "https://localhost:8080/"
        },
        "id": "FIKt7LOokVFl",
        "outputId": "d2905858-206a-46bb-e417-6a47e77dd38b"
      },
      "execution_count": null,
      "outputs": [
        {
          "output_type": "stream",
          "name": "stdout",
          "text": [
            "Collecting pyspark\n",
            "  Downloading pyspark-3.5.3.tar.gz (317.3 MB)\n",
            "\u001b[2K     \u001b[90m━━━━━━━━━━━━━━━━━━━━━━━━━━━━━━━━━━━━━━━━\u001b[0m \u001b[32m317.3/317.3 MB\u001b[0m \u001b[31m4.1 MB/s\u001b[0m eta \u001b[36m0:00:00\u001b[0m\n",
            "\u001b[?25h  Preparing metadata (setup.py) ... \u001b[?25l\u001b[?25hdone\n",
            "Requirement already satisfied: py4j==0.10.9.7 in /usr/local/lib/python3.10/dist-packages (from pyspark) (0.10.9.7)\n",
            "Building wheels for collected packages: pyspark\n",
            "  Building wheel for pyspark (setup.py) ... \u001b[?25l\u001b[?25hdone\n",
            "  Created wheel for pyspark: filename=pyspark-3.5.3-py2.py3-none-any.whl size=317840625 sha256=8a98ebff93a4a53614d8e9f5e3e14555ed5150fc12568e89d3f7944d30d409f7\n",
            "  Stored in directory: /root/.cache/pip/wheels/1b/3a/92/28b93e2fbfdbb07509ca4d6f50c5e407f48dce4ddbda69a4ab\n",
            "Successfully built pyspark\n",
            "Installing collected packages: pyspark\n",
            "Successfully installed pyspark-3.5.3\n"
          ]
        }
      ]
    },
    {
      "cell_type": "markdown",
      "source": [
        "# Importing necessary libraries"
      ],
      "metadata": {
        "id": "F7qA_g1bko3E"
      }
    },
    {
      "cell_type": "code",
      "source": [
        "from pyspark.sql import SparkSession\n",
        "from pyspark.sql.functions import col, when, isnan, count, avg, stddev, abs, dayofweek, hour, countDistinct, sum as spark_sum, count as spark_count\n",
        "from pyspark.ml.feature import VectorAssembler\n",
        "from pyspark.ml.classification import DecisionTreeClassifier, RandomForestClassifier\n",
        "from pyspark.ml.evaluation import MulticlassClassificationEvaluator\n",
        "from pyspark.ml.tuning import ParamGridBuilder, CrossValidator\n",
        "from pyspark.ml.feature import StringIndexer"
      ],
      "metadata": {
        "id": "KcBuhMcokqSL"
      },
      "execution_count": null,
      "outputs": []
    },
    {
      "cell_type": "markdown",
      "source": [
        "# Spark session"
      ],
      "metadata": {
        "id": "iP-shTVBk0GY"
      }
    },
    {
      "cell_type": "code",
      "source": [
        "spark = SparkSession.builder \\\n",
        "    .appName(\"Fraud Detection in Orders\") \\\n",
        "    .getOrCreate()"
      ],
      "metadata": {
        "id": "3KZnQkQUk11f"
      },
      "execution_count": null,
      "outputs": []
    },
    {
      "cell_type": "markdown",
      "source": [
        "#Data Loading and Exploration"
      ],
      "metadata": {
        "id": "Q3KZWmujnARV"
      }
    },
    {
      "cell_type": "code",
      "source": [
        "\n",
        "data_path = \"/Copy of Sales - JAN 2015 TO JUNE 2015- ALL CATEGORIES -EB^JEO_ER (version 1)_CAP.csv\"\n",
        "\n",
        "df = spark.read.csv(data_path, header=True, inferSchema=True)\n",
        "\n",
        "df.show(5)"
      ],
      "metadata": {
        "colab": {
          "base_uri": "https://localhost:8080/"
        },
        "id": "gNUXIMOKnSJW",
        "outputId": "a7a8868b-1864-4892-891d-f6c6590db734"
      },
      "execution_count": null,
      "outputs": [
        {
          "output_type": "stream",
          "name": "stdout",
          "text": [
            "+----+----------+-----------+-------+------------+----------+--------------------+-----------+----------+---------+--------------+---------+-------------+----------+----+------+----------+-----------+------+------+--------------+-------------+-------+---+--------+----+--------+-----------------+-----------------+--------------------+-----------+--------+-------+-------+\n",
            "|SORG|    REGION|      STATE|CHANNEL|BILLING TYPE|STORE CODE|                NAME|INVOICE NOS|      DATE|      DAY|         BRAND|SUB BRAND|MATERIAL TYPE|STYLE CODE|SIZE|SLEEVE|BASIC/CORE|     COLOUR|SEASON|GENDER|SUPPLIER STYLE|SUPPLIER SIZE|BARCODE|QTY|UNIT MRP| MRP|DISCOUNT|MANUALDISC REASON|MANUALDISC REMARK|       SCHEME REASON|TAXABLE AMT|TAX RATE|TAX AMT|NET AMT|\n",
            "+----+----------+-----------+-------+------------+----------+--------------------+-----------+----------+---------+--------------+---------+-------------+----------+----+------+----------+-----------+------+------+--------------+-------------+-------+---+--------+----+--------+-----------------+-----------------+--------------------+-----------+--------+-------+-------+\n",
            "| ABL|INDIA EAST|WEST BENGAL|    BF1|       SALES|    107450|US - SHAILIJA SHO...|U32IN406750|01/01/2015|Thursday |       US Polo|     NULL|       Shirts|  USSH3311|   L|     F|   Fashion|       NAVY|   A14|  Mens|      USSH3311|        L  FS|8.91E12|  1|    2399|2399|     0.0|               NA|             NULL|                  NA|    2284.76|     5.0| 114.24| 2399.0|\n",
            "| ABL|INDIA EAST|WEST BENGAL|    BF1|       SALES|    107450|US - SHAILIJA SHO...|U32IN406750|01/01/2015|Thursday |       US Polo|     NULL|       Shirts|  USSH3321|   L|     F|   Fashion|  DEEP TEAL|   A14|  Mens|      USSH3321|        L  FS|8.91E12|  1|    2199|2199|     0.0|               NA|             NULL|                  NA|    2094.29|     5.0| 104.71| 2199.0|\n",
            "| ABL|INDIA EAST|WEST BENGAL|    BF1|       SALES|    107450|US - SHAILIJA SHO...|U32IN406750|01/01/2015|Thursday | US DENIM & Co|     NULL|       Shirts|  USSH3488|  XL|     F|   Fashion|       NAVY|   A14|  Mens|      USSH3488|        XL FS|8.91E12|  1|    2599|2599|     0.0|               NA|             NULL|                  NA|    2475.24|     5.0| 123.76| 2599.0|\n",
            "| ABL|INDIA EAST|WEST BENGAL|    BF1|       SALES|    107450|US - SHAILIJA SHO...|U32IN406750|01/01/2015|Thursday |       US Polo|     NULL|     Trousers|  USTR0449|  38|  NULL|   Fashion|       NULL|   A14|  Mens|      USTR0449|           38|8.91E12|  1|    2099|2099|   300.0|  Scheme Discount|             NULL|uspolo schene men...|     1799.0|     5.0|  89.95|1888.95|\n",
            "| ABL|INDIA EAST|WEST BENGAL|    BF1|       SALES|    107450|US - SHAILIJA SHO...|U32IN406751|01/01/2015|Thursday |US POLO WOMENS|     NULL|       Shirts|  UWSH0110|   S|     F|   Fashion|NAVY BLAZER|   A14| Women|      UWSH0110|        S  FS|8.91E12|  1|    1799|1799|     0.0|               NA|             NULL|                  NA|    1713.33|     5.0|  85.67| 1799.0|\n",
            "+----+----------+-----------+-------+------------+----------+--------------------+-----------+----------+---------+--------------+---------+-------------+----------+----+------+----------+-----------+------+------+--------------+-------------+-------+---+--------+----+--------+-----------------+-----------------+--------------------+-----------+--------+-------+-------+\n",
            "only showing top 5 rows\n",
            "\n"
          ]
        }
      ]
    },
    {
      "cell_type": "code",
      "source": [
        "\n",
        "df.printSchema()"
      ],
      "metadata": {
        "colab": {
          "base_uri": "https://localhost:8080/"
        },
        "id": "XMo8uQruoJrl",
        "outputId": "40c55b4f-e811-41d5-d3cc-4054b34ac647"
      },
      "execution_count": null,
      "outputs": [
        {
          "output_type": "stream",
          "name": "stdout",
          "text": [
            "root\n",
            " |-- SORG: string (nullable = true)\n",
            " |-- REGION: string (nullable = true)\n",
            " |-- STATE: string (nullable = true)\n",
            " |-- CHANNEL: string (nullable = true)\n",
            " |-- BILLING TYPE: string (nullable = true)\n",
            " |-- STORE CODE: integer (nullable = true)\n",
            " |-- NAME: string (nullable = true)\n",
            " |-- INVOICE NOS: string (nullable = true)\n",
            " |-- DATE: string (nullable = true)\n",
            " |-- DAY: string (nullable = true)\n",
            " |-- BRAND: string (nullable = true)\n",
            " |-- SUB BRAND: string (nullable = true)\n",
            " |-- MATERIAL TYPE: string (nullable = true)\n",
            " |-- STYLE CODE: string (nullable = true)\n",
            " |-- SIZE: string (nullable = true)\n",
            " |-- SLEEVE: string (nullable = true)\n",
            " |-- BASIC/CORE: string (nullable = true)\n",
            " |-- COLOUR: string (nullable = true)\n",
            " |-- SEASON: string (nullable = true)\n",
            " |-- GENDER: string (nullable = true)\n",
            " |-- SUPPLIER STYLE: string (nullable = true)\n",
            " |-- SUPPLIER SIZE: string (nullable = true)\n",
            " |-- BARCODE: double (nullable = true)\n",
            " |-- QTY: integer (nullable = true)\n",
            " |-- UNIT MRP: integer (nullable = true)\n",
            " |-- MRP: integer (nullable = true)\n",
            " |-- DISCOUNT: double (nullable = true)\n",
            " |-- MANUALDISC REASON: string (nullable = true)\n",
            " |-- MANUALDISC REMARK: string (nullable = true)\n",
            " |-- SCHEME REASON: string (nullable = true)\n",
            " |-- TAXABLE AMT: double (nullable = true)\n",
            " |-- TAX RATE: double (nullable = true)\n",
            " |-- TAX AMT: double (nullable = true)\n",
            " |-- NET AMT: double (nullable = true)\n",
            "\n"
          ]
        }
      ]
    },
    {
      "cell_type": "code",
      "source": [
        "\n",
        "df.describe().show()"
      ],
      "metadata": {
        "colab": {
          "base_uri": "https://localhost:8080/"
        },
        "id": "6DcdZK4coMcx",
        "outputId": "c06994dc-bb51-45f8-aa51-c96e44e13723"
      },
      "execution_count": null,
      "outputs": [
        {
          "output_type": "stream",
          "name": "stdout",
          "text": [
            "+-------+------+----------+--------------+-------+------------+------------------+--------------------+-----------+------------------+---------+------------------+------------+-------------+----------+------------------+------+----------+------------------+------+------+--------------+-----------------+--------------------+------------------+-----------------+------------------+------------------+--------------------+-------------------+--------------------+------------------+------------------+-----------------+------------------+\n",
            "|summary|  SORG|    REGION|         STATE|CHANNEL|BILLING TYPE|        STORE CODE|                NAME|INVOICE NOS|              DATE|      DAY|             BRAND|   SUB BRAND|MATERIAL TYPE|STYLE CODE|              SIZE|SLEEVE|BASIC/CORE|            COLOUR|SEASON|GENDER|SUPPLIER STYLE|    SUPPLIER SIZE|             BARCODE|               QTY|         UNIT MRP|               MRP|          DISCOUNT|   MANUALDISC REASON|  MANUALDISC REMARK|       SCHEME REASON|       TAXABLE AMT|          TAX RATE|          TAX AMT|           NET AMT|\n",
            "+-------+------+----------+--------------+-------+------------+------------------+--------------------+-----------+------------------+---------+------------------+------------+-------------+----------+------------------+------+----------+------------------+------+------+--------------+-----------------+--------------------+------------------+-----------------+------------------+------------------+--------------------+-------------------+--------------------+------------------+------------------+-----------------+------------------+\n",
            "|  count|859030|    762881|        766972| 859031|      859031|            859031|              859031|     859031|            859031|   859031|            859031|        9040|       859031|    859031|            859031|549268|    859031|            730304|859031|859031|        859031|           859031|              859031|            859031|           859031|            859031|            859031|              859031|             125174|              859031|            859031|            859031|           859031|            859031|\n",
            "|   mean|  NULL|      NULL|          NULL|   NULL|        NULL|108609.24156986186|                NULL|       NULL| 40630.56016380097|     NULL|              NULL|        NULL|         NULL|      NULL|33.696605627512284|  NULL|      NULL|18.266009852216747|  NULL|  NULL|          NULL|33.63215829220539|8.907250066162207E12| 0.981294039446772|1621.258213033057|1545.8689174197439|290.95692096081603|                NULL|3.667765604871141E7|                NULL|1212.9235449825492| 4.937816306978431|62.80100486483265| 1275.724549847525|\n",
            "| stddev|  NULL|      NULL|          NULL|   NULL|        NULL|1296.0784582124602|                NULL|       NULL|56.865921704105574|     NULL|              NULL|        NULL|         NULL|      NULL| 3.577342984303448|  NULL|      NULL|10.503744964936814|  NULL|  NULL|          NULL|3.526675630751687|2.548291471943996...|0.7257468656474315|1131.858003758686| 1293.603088783289| 561.6545134338087|                NULL|5.814531388818347E8|                NULL|1023.0110684070409|1.7020769672564835|59.67936049575688|1079.3402346894552|\n",
            "|    min|   ABL|       ABL|ANDHRA PRADESH|    BF1|       SALES|            104136| US - CHIMMANI RA...|A80IN403837|        01/01/2015|Friday   |U.S.Polo Innerwear|        BLUE|      3/4 ths|  UGDR5003|                26|     F|   Fashion|                10|   A09|  Boys| I001-615-P1-L|               26|        1.01619772E8|                -6|                1|            -89994|          -10500.0|   Approved Discount|                  0|                  NA|          -79994.4|             -15.0|         -9999.36|         -89993.76|\n",
            "|    max|   ABL|INDIA WEST|   WEST BENGAL|    CO1|SALES RETURN|            111038|US-WHITE OCEAN BU...|UO5SR500002|             40723|Wednesday|         USPA Kids|YOUNG N BOLD|     jumpsuit|  UYTS5097|               XXL|    TF|   Regular|       YOLK YELLOW|   S15| Women|      UYTS5097|            XXLTF|             8.91E12|               500|            14999|            142698|           89964.0|Winter Offer - Nov09|                zxf|uspolowomens&kids...|         120822.06|              20.0|           6645.3|         127467.36|\n",
            "+-------+------+----------+--------------+-------+------------+------------------+--------------------+-----------+------------------+---------+------------------+------------+-------------+----------+------------------+------+----------+------------------+------+------+--------------+-----------------+--------------------+------------------+-----------------+------------------+------------------+--------------------+-------------------+--------------------+------------------+------------------+-----------------+------------------+\n",
            "\n"
          ]
        }
      ]
    },
    {
      "cell_type": "code",
      "source": [
        "# Counting missing values in each column\n",
        "missing_values = df.select([count(when(isnan(c) | col(c).isNull(), c)).alias(c) for c in df.columns])\n",
        "missing_values.show()"
      ],
      "metadata": {
        "colab": {
          "base_uri": "https://localhost:8080/"
        },
        "id": "2No0rKoSo-kE",
        "outputId": "7a0c05e1-4b26-4072-e150-79e94be23ae7"
      },
      "execution_count": null,
      "outputs": [
        {
          "output_type": "stream",
          "name": "stdout",
          "text": [
            "+----+------+-----+-------+------------+----------+----+-----------+----+---+-----+---------+-------------+----------+----+------+----------+------+------+------+--------------+-------------+-------+---+--------+---+--------+-----------------+-----------------+-------------+-----------+--------+-------+-------+\n",
            "|SORG|REGION|STATE|CHANNEL|BILLING TYPE|STORE CODE|NAME|INVOICE NOS|DATE|DAY|BRAND|SUB BRAND|MATERIAL TYPE|STYLE CODE|SIZE|SLEEVE|BASIC/CORE|COLOUR|SEASON|GENDER|SUPPLIER STYLE|SUPPLIER SIZE|BARCODE|QTY|UNIT MRP|MRP|DISCOUNT|MANUALDISC REASON|MANUALDISC REMARK|SCHEME REASON|TAXABLE AMT|TAX RATE|TAX AMT|NET AMT|\n",
            "+----+------+-----+-------+------------+----------+----+-----------+----+---+-----+---------+-------------+----------+----+------+----------+------+------+------+--------------+-------------+-------+---+--------+---+--------+-----------------+-----------------+-------------+-----------+--------+-------+-------+\n",
            "|   2| 96151|92060|      1|           1|         1|   1|          1|   1|  1|    1|   849992|            1|         1|   1|309764|         1|128728|     1|     1|             1|            1|      1|  1|       1|  1|       1|                1|           733858|            1|          1|       1|      1|      1|\n",
            "+----+------+-----+-------+------------+----------+----+-----------+----+---+-----+---------+-------------+----------+----+------+----------+------+------+------+--------------+-------------+-------+---+--------+---+--------+-----------------+-----------------+-------------+-----------+--------+-------+-------+\n",
            "\n"
          ]
        }
      ]
    },
    {
      "cell_type": "code",
      "source": [
        "df.head(1)"
      ],
      "metadata": {
        "colab": {
          "base_uri": "https://localhost:8080/"
        },
        "id": "fjBdT1dtFuN9",
        "outputId": "efdda3ed-437e-43cd-a7e5-f31f3b9347b2"
      },
      "execution_count": null,
      "outputs": [
        {
          "output_type": "execute_result",
          "data": {
            "text/plain": [
              "[Row(SORG='ABL', REGION='INDIA EAST', STATE='WEST BENGAL', CHANNEL='BF1', BILLING TYPE='SALES', STORE CODE=107450, NAME='US - SHAILIJA SHOPPERS KOLKATA', INVOICE NOS='U32IN406750', DATE='01/01/2015', DAY='Thursday ', BRAND='US Polo', SUB BRAND=None, MATERIAL TYPE='Shirts', STYLE CODE='USSH3311', SIZE='L', SLEEVE='F', BASIC/CORE='Fashion', COLOUR='NAVY', SEASON='A14', GENDER='Mens', SUPPLIER STYLE='USSH3311', SUPPLIER SIZE='L  FS', BARCODE=8910000000000.0, QTY=1, UNIT MRP=2399, MRP=2399, DISCOUNT=0.0, MANUALDISC REASON='NA', MANUALDISC REMARK=None, SCHEME REASON='NA', TAXABLE AMT=2284.76, TAX RATE=5.0, TAX AMT=114.24, NET AMT=2399.0)]"
            ]
          },
          "metadata": {},
          "execution_count": 6
        }
      ]
    },
    {
      "cell_type": "markdown",
      "source": [
        "##Data Preprocessing"
      ],
      "metadata": {
        "id": "cYdGAm_nnSmk"
      }
    },
    {
      "cell_type": "markdown",
      "source": [
        "1. Handling Missing Values"
      ],
      "metadata": {
        "id": "qCtSGViZnmU0"
      }
    },
    {
      "cell_type": "code",
      "source": [
        "# Drop rows with missing values in critical columns or fill them as appropriate\n",
        "# For example, let's fill missing 'DISCOUNT' with 0\n",
        "df = df.na.fill({'DISCOUNT': 0, 'MANUALDISC REASON': 'No Reason', 'MANUALDISC REMARK': 'No Remark'})\n",
        "\n",
        "# Alternatively, drop rows with any remaining missing values\n",
        "#df = df.dropna()"
      ],
      "metadata": {
        "id": "hJpYxCRXnn2U"
      },
      "execution_count": null,
      "outputs": []
    },
    {
      "cell_type": "markdown",
      "source": [
        "#Feature Engineering"
      ],
      "metadata": {
        "id": "U7kKzPDvnxI_"
      }
    },
    {
      "cell_type": "markdown",
      "source": [
        "Key Features:\n",
        "QTY: Unusually high quantities could indicate fraud.\n",
        "DISCOUNT: Large discounts, especially manual ones, could raise flags.\n",
        "NET AMT: Abnormally low or high net amounts might signal fraudulent activity."
      ],
      "metadata": {
        "id": "nSTwgd0TuGcO"
      }
    },
    {
      "cell_type": "markdown",
      "source": [
        "1. Order Amount Features\n",
        "Calculate the total order amount and related metrics."
      ],
      "metadata": {
        "id": "Y0AhncWSuk6J"
      }
    },
    {
      "cell_type": "code",
      "source": [
        "# Assuming 'QTY' is quantity and 'UNIT MRP' is unit price\n",
        "df = df.withColumn(\"TOTAL_AMOUNT\", col(\"QTY\") * col(\"UNIT MRP\"))\n",
        "\n",
        "# High-value order flag (e.g., orders above a certain threshold)\n",
        "df = df.withColumn(\"HIGH_VALUE_ORDER\", when(col(\"TOTAL_AMOUNT\") > 1000, 1).otherwise(0))"
      ],
      "metadata": {
        "id": "BBZ1hLPPulyY"
      },
      "execution_count": null,
      "outputs": []
    },
    {
      "cell_type": "code",
      "source": [
        "\n",
        "df = df.withColumn(\"high_quantity_order\", when(col(\"QTY\") > 100, 1).otherwise(0))\n",
        "\n",
        "df = df.withColumn(\"high_discount\", when(col(\"DISCOUNT\") > 50, 1).otherwise(0))\n",
        "\n",
        "df = df.withColumn(\"high_net_amount\", when(col(\"NET AMT\") > 10000, 1).otherwise(0))\n",
        "\n",
        "df = df.withColumn(\"qty_zscore\",\n",
        "                   (col(\"QTY\") - df.select(avg(col(\"QTY\"))).first()[0]) / df.select(stddev(col(\"QTY\"))).first()[0])\n",
        "\n",
        "df = df.withColumn(\"net_amt_zscore\",\n",
        "                   (col(\"NET AMT\") - df.select(avg(col(\"NET AMT\"))).first()[0]) / df.select(stddev(col(\"NET AMT\"))).first()[0])\n",
        "\n"
      ],
      "metadata": {
        "id": "5CbvFTqWNXKm"
      },
      "execution_count": null,
      "outputs": []
    },
    {
      "cell_type": "markdown",
      "source": [
        "Formula for Z-Score\n",
        "The Z-score formula is:\n",
        "\n",
        "𝑍\n",
        "=\n",
        "𝑋\n",
        "−\n",
        "𝜇\n",
        "/\n",
        "𝜎\n",
        "\n",
        "\n",
        "Where:\n",
        "\n",
        "\n",
        "X: The value of the data point\n",
        "\n",
        "μ: The mean of the column\n",
        "\n",
        "σ: The standard deviation of the column\n",
        "\n",
        "A Z-score tells you how many standard deviations a value is away from the mean."
      ],
      "metadata": {
        "id": "ewQyV4OBTZ-D"
      }
    },
    {
      "cell_type": "code",
      "source": [
        "df.printSchema()"
      ],
      "metadata": {
        "colab": {
          "base_uri": "https://localhost:8080/"
        },
        "id": "wY5zDuQeQ-UT",
        "outputId": "b71dc4cd-d88a-4b13-d240-cc5b5440af42"
      },
      "execution_count": null,
      "outputs": [
        {
          "output_type": "stream",
          "name": "stdout",
          "text": [
            "root\n",
            " |-- SORG: string (nullable = true)\n",
            " |-- REGION: string (nullable = true)\n",
            " |-- STATE: string (nullable = true)\n",
            " |-- CHANNEL: string (nullable = true)\n",
            " |-- BILLING TYPE: string (nullable = true)\n",
            " |-- STORE CODE: integer (nullable = true)\n",
            " |-- NAME: string (nullable = true)\n",
            " |-- INVOICE NOS: string (nullable = true)\n",
            " |-- DATE: string (nullable = true)\n",
            " |-- DAY: string (nullable = true)\n",
            " |-- BRAND: string (nullable = true)\n",
            " |-- SUB BRAND: string (nullable = true)\n",
            " |-- MATERIAL TYPE: string (nullable = true)\n",
            " |-- STYLE CODE: string (nullable = true)\n",
            " |-- SIZE: string (nullable = true)\n",
            " |-- SLEEVE: string (nullable = true)\n",
            " |-- BASIC/CORE: string (nullable = true)\n",
            " |-- COLOUR: string (nullable = true)\n",
            " |-- SEASON: string (nullable = true)\n",
            " |-- GENDER: string (nullable = true)\n",
            " |-- SUPPLIER STYLE: string (nullable = true)\n",
            " |-- SUPPLIER SIZE: string (nullable = true)\n",
            " |-- BARCODE: double (nullable = true)\n",
            " |-- QTY: integer (nullable = true)\n",
            " |-- UNIT MRP: integer (nullable = true)\n",
            " |-- MRP: integer (nullable = true)\n",
            " |-- DISCOUNT: double (nullable = false)\n",
            " |-- MANUALDISC REASON: string (nullable = false)\n",
            " |-- MANUALDISC REMARK: string (nullable = false)\n",
            " |-- SCHEME REASON: string (nullable = true)\n",
            " |-- TAXABLE AMT: double (nullable = true)\n",
            " |-- TAX RATE: double (nullable = true)\n",
            " |-- TAX AMT: double (nullable = true)\n",
            " |-- NET AMT: double (nullable = true)\n",
            " |-- TOTAL_AMOUNT: integer (nullable = true)\n",
            " |-- HIGH_VALUE_ORDER: integer (nullable = false)\n",
            " |-- high_quantity_order: integer (nullable = false)\n",
            " |-- high_discount: integer (nullable = false)\n",
            " |-- high_net_amount: integer (nullable = false)\n",
            " |-- qty_zscore: double (nullable = true)\n",
            " |-- net_amt_zscore: double (nullable = true)\n",
            "\n"
          ]
        }
      ]
    },
    {
      "source": [
        "from pyspark.sql.functions import abs, when, col, avg, stddev\n",
        "\n",
        "\n",
        "# Flagging anomalous orders\n",
        "df = df.withColumn(\"anomalous_order\", when((abs(col(\"qty_zscore\")) > 3) | (abs(col(\"net_amt_zscore\")) > 3), 1).otherwise(0))\n",
        "\n",
        "df.select(\"high_quantity_order\", \"high_discount\", \"high_net_amount\", \"anomalous_order\").show(5)"
      ],
      "cell_type": "code",
      "metadata": {
        "colab": {
          "base_uri": "https://localhost:8080/"
        },
        "id": "un7UN76CNuiL",
        "outputId": "284b20d1-57f6-4daf-a3e1-b0f67cb48910"
      },
      "execution_count": null,
      "outputs": [
        {
          "output_type": "stream",
          "name": "stdout",
          "text": [
            "+-------------------+-------------+---------------+---------------+\n",
            "|high_quantity_order|high_discount|high_net_amount|anomalous_order|\n",
            "+-------------------+-------------+---------------+---------------+\n",
            "|                  0|            0|              0|              0|\n",
            "|                  0|            0|              0|              0|\n",
            "|                  0|            0|              0|              0|\n",
            "|                  0|            1|              0|              0|\n",
            "|                  0|            0|              0|              0|\n",
            "+-------------------+-------------+---------------+---------------+\n",
            "only showing top 5 rows\n",
            "\n"
          ]
        }
      ]
    },
    {
      "cell_type": "code",
      "source": [
        "df.head()"
      ],
      "metadata": {
        "colab": {
          "base_uri": "https://localhost:8080/"
        },
        "id": "OXiFfHZMvF4X",
        "outputId": "607eb2d9-8050-4698-9ece-1e55c70fb478"
      },
      "execution_count": null,
      "outputs": [
        {
          "output_type": "execute_result",
          "data": {
            "text/plain": [
              "Row(SORG='ABL', REGION='INDIA EAST', STATE='WEST BENGAL', CHANNEL='BF1', BILLING TYPE='SALES', STORE CODE=107450, NAME='US - SHAILIJA SHOPPERS KOLKATA', INVOICE NOS='U32IN406750', DATE='01/01/2015', DAY='Thursday ', BRAND='US Polo', SUB BRAND=None, MATERIAL TYPE='Shirts', STYLE CODE='USSH3311', SIZE='L', SLEEVE='F', BASIC/CORE='Fashion', COLOUR='NAVY', SEASON='A14', GENDER='Mens', SUPPLIER STYLE='USSH3311', SUPPLIER SIZE='L  FS', BARCODE=8910000000000.0, QTY=1, UNIT MRP=2399, MRP=2399, DISCOUNT=0.0, MANUALDISC REASON='NA', MANUALDISC REMARK='No Remark', SCHEME REASON='NA', TAXABLE AMT=2284.76, TAX RATE=5.0, TAX AMT=114.24, NET AMT=2399.0, TOTAL_AMOUNT=2399, HIGH_VALUE_ORDER=1, high_quantity_order=0, high_discount=0, high_net_amount=0, qty_zscore=0.02577477277361803, net_amt_zscore=1.0407056218706243, anomalous_order=0)"
            ]
          },
          "metadata": {},
          "execution_count": 11
        }
      ]
    },
    {
      "cell_type": "markdown",
      "source": [
        "2. Discount Features\n",
        "Analyze the impact of discounts on orders."
      ],
      "metadata": {
        "id": "0ogCkAwJvyFx"
      }
    },
    {
      "cell_type": "code",
      "source": [
        "# Percentage Discount\n",
        "df = df.withColumn(\"PERCENT_DISCOUNT\", (col(\"DISCOUNT\") / col(\"MRP\")) * 100)\n",
        "\n",
        "# High Discount Flag\n",
        "df = df.withColumn(\"HIGH_DISCOUNT\", when(col(\"PERCENT_DISCOUNT\") > 70, 1).otherwise(0))"
      ],
      "metadata": {
        "id": "rLX5TkoPvzI8"
      },
      "execution_count": null,
      "outputs": []
    },
    {
      "cell_type": "code",
      "source": [
        "\n",
        "normal_orders = df.filter(col(\"HIGH_DISCOUNT\") == 0)\n",
        "\n",
        "normal_orders.show(truncate=False)\n"
      ],
      "metadata": {
        "id": "2NRvTPZhV7X-"
      },
      "execution_count": null,
      "outputs": []
    },
    {
      "cell_type": "code",
      "source": [
        "df.head(2)"
      ],
      "metadata": {
        "colab": {
          "base_uri": "https://localhost:8080/"
        },
        "id": "N5QFTE2Cv9NL",
        "outputId": "14b44919-b3eb-4ae4-a00d-d9be175c8336"
      },
      "execution_count": null,
      "outputs": [
        {
          "output_type": "execute_result",
          "data": {
            "text/plain": [
              "[Row(SORG='ABL', REGION='INDIA EAST', STATE='WEST BENGAL', CHANNEL='BF1', BILLING TYPE='SALES', STORE CODE=107450, NAME='US - SHAILIJA SHOPPERS KOLKATA', INVOICE NOS='U32IN406750', DATE='01/01/2015', DAY='Thursday ', BRAND='US Polo', SUB BRAND=None, MATERIAL TYPE='Shirts', STYLE CODE='USSH3311', SIZE='L', SLEEVE='F', BASIC/CORE='Fashion', COLOUR='NAVY', SEASON='A14', GENDER='Mens', SUPPLIER STYLE='USSH3311', SUPPLIER SIZE='L  FS', BARCODE=8910000000000.0, QTY=1, UNIT MRP=2399, MRP=2399, DISCOUNT=0.0, MANUALDISC REASON='NA', MANUALDISC REMARK=None, SCHEME REASON='NA', TAXABLE AMT=2284.76, TAX RATE=5.0, TAX AMT=114.24, NET AMT=2399.0, TOTAL_AMOUNT=2399, HIGH_VALUE_ORDER=1, PERCENT_DISCOUNT=0.0, HIGH_DISCOUNT=0),\n",
              " Row(SORG='ABL', REGION='INDIA EAST', STATE='WEST BENGAL', CHANNEL='BF1', BILLING TYPE='SALES', STORE CODE=107450, NAME='US - SHAILIJA SHOPPERS KOLKATA', INVOICE NOS='U32IN406750', DATE='01/01/2015', DAY='Thursday ', BRAND='US Polo', SUB BRAND=None, MATERIAL TYPE='Shirts', STYLE CODE='USSH3321', SIZE='L', SLEEVE='F', BASIC/CORE='Fashion', COLOUR='DEEP TEAL', SEASON='A14', GENDER='Mens', SUPPLIER STYLE='USSH3321', SUPPLIER SIZE='L  FS', BARCODE=8910000000000.0, QTY=1, UNIT MRP=2199, MRP=2199, DISCOUNT=0.0, MANUALDISC REASON='NA', MANUALDISC REMARK=None, SCHEME REASON='NA', TAXABLE AMT=2094.29, TAX RATE=5.0, TAX AMT=104.71, NET AMT=2199.0, TOTAL_AMOUNT=2199, HIGH_VALUE_ORDER=1, PERCENT_DISCOUNT=0.0, HIGH_DISCOUNT=0)]"
            ]
          },
          "metadata": {},
          "execution_count": 16
        }
      ]
    },
    {
      "cell_type": "markdown",
      "source": [
        "3. Temporal Features\\\n",
        "Extracting features based on the order date."
      ],
      "metadata": {
        "id": "k0vmiceWwoHg"
      }
    },
    {
      "cell_type": "code",
      "source": [
        "from pyspark.sql.functions import dayofweek, hour\n",
        "\n",
        "# Day of the week (1 = Monday, 7 = Sunday)\n",
        "df = df.withColumn(\"DAY_OF_WEEK\", dayofweek(col(\"DATE\")))"
      ],
      "metadata": {
        "id": "mDXfMuTBwo1U"
      },
      "execution_count": null,
      "outputs": []
    },
    {
      "cell_type": "code",
      "source": [
        "df.describe().show()"
      ],
      "metadata": {
        "colab": {
          "base_uri": "https://localhost:8080/"
        },
        "id": "D44583gzwvtt",
        "outputId": "6f2188c3-7246-405c-9cbf-6248ceb0224a"
      },
      "execution_count": null,
      "outputs": [
        {
          "output_type": "stream",
          "name": "stdout",
          "text": [
            "+-------+------+----------+--------------+-------+------------+------------------+--------------------+-----------+------------------+---------+------------------+------------+-------------+----------+------------------+------+----------+------------------+------+------+--------------+-----------------+--------------------+------------------+-----------------+------------------+-----------------+--------------------+-------------------+--------------------+------------------+------------------+-----------------+------------------+------------------+------------------+--------------------+--------------------+--------------------+--------------------+--------------------+--------------------+------------------+------------------+\n",
            "|summary|  SORG|    REGION|         STATE|CHANNEL|BILLING TYPE|        STORE CODE|                NAME|INVOICE NOS|              DATE|      DAY|             BRAND|   SUB BRAND|MATERIAL TYPE|STYLE CODE|              SIZE|SLEEVE|BASIC/CORE|            COLOUR|SEASON|GENDER|SUPPLIER STYLE|    SUPPLIER SIZE|             BARCODE|               QTY|         UNIT MRP|               MRP|         DISCOUNT|   MANUALDISC REASON|  MANUALDISC REMARK|       SCHEME REASON|       TAXABLE AMT|          TAX RATE|          TAX AMT|           NET AMT|      TOTAL_AMOUNT|  HIGH_VALUE_ORDER| high_quantity_order|       HIGH_DISCOUNT|     high_net_amount|          qty_zscore|      net_amt_zscore|     anomalous_order|  PERCENT_DISCOUNT|       DAY_OF_WEEK|\n",
            "+-------+------+----------+--------------+-------+------------+------------------+--------------------+-----------+------------------+---------+------------------+------------+-------------+----------+------------------+------+----------+------------------+------+------+--------------+-----------------+--------------------+------------------+-----------------+------------------+-----------------+--------------------+-------------------+--------------------+------------------+------------------+-----------------+------------------+------------------+------------------+--------------------+--------------------+--------------------+--------------------+--------------------+--------------------+------------------+------------------+\n",
            "|  count|859030|    762881|        766972| 859031|      859031|            859031|              859031|     859031|            859031|   859031|            859031|        9040|       859031|    859031|            859031|549268|    859031|            730304|859031|859031|        859031|           859031|              859031|            859031|           859031|            859031|           859032|              859032|             859032|              859031|            859031|            859031|           859031|            859031|            859031|            859032|              859032|              859032|              859032|              859031|              859031|              859032|            859031|            692792|\n",
            "|   mean|  NULL|      NULL|          NULL|   NULL|        NULL|108609.24156986186|                NULL|       NULL| 40630.56016380097|     NULL|              NULL|        NULL|         NULL|      NULL|33.696605627512284|  NULL|      NULL|18.266009852216747|  NULL|  NULL|          NULL|33.63215829220539|8.907250066162207E12| 0.981294039446772|1621.258213033057|1545.8689174197439|290.9565822575768|                NULL|3.667765604871141E7|                NULL|1212.9235449825492| 4.937816306978431|62.80100486483265| 1275.724549847525|1545.8689174197439|0.7330017973719256|4.656403952355675E-6|0.011396548673390515|3.794969221169875E-4|9.403295886331635...|-1.12713983489240...|0.014477923988861881|13.564253610983329| 4.125168881857758|\n",
            "| stddev|  NULL|      NULL|          NULL|   NULL|        NULL|1296.0784582124602|                NULL|       NULL|56.865921704105574|     NULL|              NULL|        NULL|         NULL|      NULL| 3.577342984303448|  NULL|      NULL|10.503744964936814|  NULL|  NULL|          NULL|3.526675630751687|2.548291471943996...|0.7257468656474315|1131.858003758686| 1293.603088783289| 561.654274252231|                NULL|5.814531388818347E8|                NULL|1023.0110684070409|1.7020769672564835|59.67936049575688|1079.3402346894552| 1293.603088783289|    0.442391670636|0.002157866467315...| 0.10614462052916063|0.019476995297239588|  1.0000000000000109|  0.9999999999999942| 0.11945011643197351| 20.91728574200753|2.0092116772813466|\n",
            "|    min|   ABL|       ABL|ANDHRA PRADESH|    BF1|       SALES|            104136| US - CHIMMANI RA...|A80IN403837|        01/01/2015|Friday   |U.S.Polo Innerwear|        BLUE|      3/4 ths|  UGDR5003|                26|     F|   Fashion|                10|   A09|  Boys| I001-615-P1-L|               26|        1.01619772E8|                -6|                1|            -89994|         -10500.0|   Approved Discount|                  0|                  NA|          -79994.4|             -15.0|         -9999.36|         -89993.76|            -89994|                 0|                   0|                   0|                   0|  -9.619461509101841|  -84.56043943929073|                   0|               0.0|                 1|\n",
            "|    max|   ABL|INDIA WEST|   WEST BENGAL|    CO1|SALES RETURN|            111038|US-WHITE OCEAN BU...|UO5SR500002|             40723|Wednesday|         USPA Kids|YOUNG N BOLD|     jumpsuit|  UYTS5097|               XXL|    TF|   Regular|       YOLK YELLOW|   S15| Women|      UYTS5097|            XXLTF|             8.91E12|               500|            14999|            142698|          89964.0|Winter Offer - Nov09|                zxf|uspolowomens&kids...|         120822.06|              20.0|           6645.3|         127467.36|            142698|                 1|                   1|                   1|                   1|   687.5933325807528|  116.91552987131995|                   1|             100.0|                 7|\n",
            "+-------+------+----------+--------------+-------+------------+------------------+--------------------+-----------+------------------+---------+------------------+------------+-------------+----------+------------------+------+----------+------------------+------+------+--------------+-----------------+--------------------+------------------+-----------------+------------------+-----------------+--------------------+-------------------+--------------------+------------------+------------------+-----------------+------------------+------------------+------------------+--------------------+--------------------+--------------------+--------------------+--------------------+--------------------+------------------+------------------+\n",
            "\n"
          ]
        }
      ]
    },
    {
      "cell_type": "markdown",
      "source": [
        "4. Address and Channel Features\n",
        "Identify mismatches and channel-specific patterns"
      ],
      "metadata": {
        "id": "F3rw_6s3xsxk"
      }
    },
    {
      "cell_type": "code",
      "source": [
        "# Addressing Mismatch Flag (if applicable)\n",
        "df = df.withColumn(\"ADDRESS_MISMATCH\", when(col(\"BILLING TYPE\") != col(\"CHANNEL\"), 1).otherwise(0))\n",
        "\n",
        "# Sales Channel Indexing\n",
        "indexer = StringIndexer(inputCol=\"CHANNEL\", outputCol=\"CHANNEL_INDEX\")\n",
        "df = indexer.fit(df).transform(df)"
      ],
      "metadata": {
        "id": "bAyg_u3Rx3Rw"
      },
      "execution_count": null,
      "outputs": []
    },
    {
      "cell_type": "markdown",
      "source": [
        "5. Tax Features\n",
        "Analyze tax-related irregularities."
      ],
      "metadata": {
        "id": "xSN3T0N1yPFI"
      }
    },
    {
      "cell_type": "code",
      "source": [
        "# Tax Percentage Verification\n",
        "df = df.withColumn(\"CALCULATED_TAX\", col(\"NET AMT\") - (col(\"TAXABLE AMT\") + col(\"DISCOUNT\")))\n",
        "df = df.withColumn(\"TAX_INCONSISTENCY\", when(col(\"CALCULATED_TAX\") != col(\"TAX AMT\"), 1).otherwise(0))"
      ],
      "metadata": {
        "id": "ovrYnSXJyP6B"
      },
      "execution_count": null,
      "outputs": []
    },
    {
      "cell_type": "code",
      "source": [
        "df.select(\"QTY\", \"DISCOUNT\", \"NET AMT\", \"CALCULATED_TAX\", \"HIGH_VALUE_ORDER\", \"ADDRESS_MISMATCH\").show(2)"
      ],
      "metadata": {
        "colab": {
          "base_uri": "https://localhost:8080/"
        },
        "id": "aGmTtUgvysLX",
        "outputId": "aced4689-2f99-4290-f011-0eb26c1f4987"
      },
      "execution_count": null,
      "outputs": [
        {
          "output_type": "stream",
          "name": "stdout",
          "text": [
            "+---+--------+-------+------------------+----------------+----------------+\n",
            "|QTY|DISCOUNT|NET AMT|    CALCULATED_TAX|HIGH_VALUE_ORDER|ADDRESS_MISMATCH|\n",
            "+---+--------+-------+------------------+----------------+----------------+\n",
            "|  1|     0.0| 2399.0|114.23999999999978|               1|               1|\n",
            "|  1|     0.0| 2199.0|104.71000000000004|               1|               1|\n",
            "+---+--------+-------+------------------+----------------+----------------+\n",
            "only showing top 2 rows\n",
            "\n"
          ]
        }
      ]
    },
    {
      "cell_type": "markdown",
      "source": [
        "Anomaly Detection\n",
        "Detecting anomalies helps in identifying outliers that may indicate fraudulent activities.\n",
        "\n",
        "Using Z-Score for Anomaly Detection"
      ],
      "metadata": {
        "id": "9aXvcv6a96oB"
      }
    },
    {
      "cell_type": "code",
      "source": [
        "# Calculating mean and standard deviation for 'TOTAL_AMOUNT'\n",
        "stats = df.select(avg(col(\"TOTAL_AMOUNT\")).alias(\"mean\"), stddev(col(\"TOTAL_AMOUNT\")).alias(\"stddev\")).collect()\n",
        "mean_total = stats[0]['mean']\n",
        "stddev_total = stats[0]['stddev']\n",
        "\n",
        "# Calculating Z-Score\n",
        "df = df.withColumn(\"TOTAL_AMOUNT_ZSCORE\", (col(\"TOTAL_AMOUNT\") - mean_total) / stddev_total)\n",
        "\n",
        "# Flag anomalies\n",
        "df = df.withColumn(\"ANOMALY_FLAG\", when((col(\"TOTAL_AMOUNT_ZSCORE\") > 3) | (col(\"TOTAL_AMOUNT_ZSCORE\") < -3), 1).otherwise(0))\n"
      ],
      "metadata": {
        "id": "Mfx5KC7I-uxh"
      },
      "execution_count": null,
      "outputs": []
    },
    {
      "cell_type": "code",
      "source": [
        "df.printSchema()"
      ],
      "metadata": {
        "colab": {
          "base_uri": "https://localhost:8080/"
        },
        "id": "EK85FEVyRLZ5",
        "outputId": "058a6d2f-f3a6-42b4-ee52-560fea67dcc8"
      },
      "execution_count": null,
      "outputs": [
        {
          "output_type": "stream",
          "name": "stdout",
          "text": [
            "root\n",
            " |-- SORG: string (nullable = true)\n",
            " |-- REGION: string (nullable = true)\n",
            " |-- STATE: string (nullable = true)\n",
            " |-- CHANNEL: string (nullable = true)\n",
            " |-- BILLING TYPE: string (nullable = true)\n",
            " |-- STORE CODE: integer (nullable = true)\n",
            " |-- NAME: string (nullable = true)\n",
            " |-- INVOICE NOS: string (nullable = true)\n",
            " |-- DATE: string (nullable = true)\n",
            " |-- DAY: string (nullable = true)\n",
            " |-- BRAND: string (nullable = true)\n",
            " |-- SUB BRAND: string (nullable = true)\n",
            " |-- MATERIAL TYPE: string (nullable = true)\n",
            " |-- STYLE CODE: string (nullable = true)\n",
            " |-- SIZE: string (nullable = true)\n",
            " |-- SLEEVE: string (nullable = true)\n",
            " |-- BASIC/CORE: string (nullable = true)\n",
            " |-- COLOUR: string (nullable = true)\n",
            " |-- SEASON: string (nullable = true)\n",
            " |-- GENDER: string (nullable = true)\n",
            " |-- SUPPLIER STYLE: string (nullable = true)\n",
            " |-- SUPPLIER SIZE: string (nullable = true)\n",
            " |-- BARCODE: double (nullable = true)\n",
            " |-- QTY: integer (nullable = true)\n",
            " |-- UNIT MRP: integer (nullable = true)\n",
            " |-- MRP: integer (nullable = true)\n",
            " |-- DISCOUNT: double (nullable = false)\n",
            " |-- MANUALDISC REASON: string (nullable = false)\n",
            " |-- MANUALDISC REMARK: string (nullable = false)\n",
            " |-- SCHEME REASON: string (nullable = true)\n",
            " |-- TAXABLE AMT: double (nullable = true)\n",
            " |-- TAX RATE: double (nullable = true)\n",
            " |-- TAX AMT: double (nullable = true)\n",
            " |-- NET AMT: double (nullable = true)\n",
            " |-- high_quantity_order: integer (nullable = false)\n",
            " |-- high_discount: integer (nullable = false)\n",
            " |-- high_net_amount: integer (nullable = false)\n",
            " |-- qty_zscore: double (nullable = true)\n",
            " |-- net_amt_zscore: double (nullable = true)\n",
            " |-- anomalous_order: integer (nullable = false)\n",
            " |-- features: vector (nullable = true)\n",
            "\n"
          ]
        }
      ]
    },
    {
      "cell_type": "markdown",
      "source": [
        "Prepare Data for Modeling\n",
        "We need to convert features into a format that PySpark's MLlib can use for classification. We'll use VectorAssembler to combine relevant features."
      ],
      "metadata": {
        "id": "TtXDuPHi_GpX"
      }
    },
    {
      "cell_type": "code",
      "source": [
        "from pyspark.ml.feature import VectorAssembler\n",
        "from pyspark.sql.functions import col, when, lit\n",
        "\n",
        "# List of features to be used in modeling\n",
        "feature_cols = [\"QTY\", \"DISCOUNT\", \"NET AMT\", \"high_quantity_order\",\n",
        "                \"HIGH_DISCOUNT\", \"high_net_amount\", \"anomalous_order\"]\n",
        "\n",
        "# Impute nulls with 0 or mean for numerical columns\n",
        "for column in feature_cols:\n",
        "    df = df.withColumn(column, when(col(column).isNull(), lit(0)).otherwise(col(column)))\n",
        "\n",
        "    # mean_val = df.select(mean(column)).collect()[0][0]\n",
        "    # df = df.withColumn(column, when(col(column).isNull(), lit(mean_val)).otherwise(col(column)))\n",
        "\n",
        "# Use VectorAssembler to combine feature columns into a single feature vector\n",
        "assembler = VectorAssembler(inputCols=feature_cols, outputCol=\"_newfeatures\")\n",
        "\n",
        "# Apply the assembler to create 'new_features'\n",
        "df = assembler.transform(df)\n",
        "\n",
        "df.select(\"_newfeatures\").show(5, truncate=False)\n",
        "\n"
      ],
      "metadata": {
        "colab": {
          "base_uri": "https://localhost:8080/"
        },
        "id": "Ia_f00Q1_HYh",
        "outputId": "7d5c5c4b-6a62-4719-8e7b-bef5977b2c7c"
      },
      "execution_count": null,
      "outputs": [
        {
          "output_type": "stream",
          "name": "stdout",
          "text": [
            "+-------------------------------+\n",
            "|_newfeatures                   |\n",
            "+-------------------------------+\n",
            "|(7,[0,2],[1.0,2399.0])         |\n",
            "|(7,[0,2],[1.0,2199.0])         |\n",
            "|(7,[0,2],[1.0,2599.0])         |\n",
            "|(7,[0,1,2],[1.0,300.0,1888.95])|\n",
            "|(7,[0,2],[1.0,1799.0])         |\n",
            "+-------------------------------+\n",
            "only showing top 5 rows\n",
            "\n"
          ]
        }
      ]
    },
    {
      "cell_type": "code",
      "source": [
        "# df = df.drop(newfeatures_)\n",
        "# Assign the transformed DataFrame with features to 'model_data'\n",
        "model_data = df.select(\"_newfeatures\", \"anomalous_order\")\n",
        "\n",
        "# Check the first few rows to ensure 'model_data' is correctly defined\n",
        "model_data.show(10, truncate=False)\n"
      ],
      "metadata": {
        "colab": {
          "base_uri": "https://localhost:8080/"
        },
        "id": "B0TxtUecU6IC",
        "outputId": "3dda4eef-4878-4385-80b1-738a41e45e10"
      },
      "execution_count": null,
      "outputs": [
        {
          "output_type": "stream",
          "name": "stdout",
          "text": [
            "+-------------------------------+---------------+\n",
            "|_newfeatures                   |anomalous_order|\n",
            "+-------------------------------+---------------+\n",
            "|(7,[0,2],[1.0,2399.0])         |0              |\n",
            "|(7,[0,2],[1.0,2199.0])         |0              |\n",
            "|(7,[0,2],[1.0,2599.0])         |0              |\n",
            "|(7,[0,1,2],[1.0,300.0,1888.95])|0              |\n",
            "|(7,[0,2],[1.0,1799.0])         |0              |\n",
            "|(7,[0,1,2],[1.0,339.8,1427.16])|0              |\n",
            "|(7,[0,2],[1.0,1899.0])         |0              |\n",
            "|(7,[0,2],[1.0,2799.0])         |0              |\n",
            "|(7,[0,2,6],[1.0,7999.0,1.0])   |1              |\n",
            "|(7,[0,1,2],[1.0,399.8,1679.16])|0              |\n",
            "+-------------------------------+---------------+\n",
            "only showing top 10 rows\n",
            "\n"
          ]
        }
      ]
    },
    {
      "source": [
        "# Assign the transformed DataFrame with features to 'model_data'\n",
        "model_data = df.select(\"_newfeatures\", \"ANOMALY_FLAG\")\n",
        "\n",
        "model_data.show(5, truncate=False)"
      ],
      "cell_type": "code",
      "metadata": {
        "id": "MA2QjWFHVC8b",
        "outputId": "8930becf-4609-4f22-97bb-4ddd862fa85f",
        "colab": {
          "base_uri": "https://localhost:8080/"
        }
      },
      "execution_count": null,
      "outputs": [
        {
          "output_type": "stream",
          "name": "stdout",
          "text": [
            "+-------------------------------+------------+\n",
            "|_newfeatures                   |ANOMALY_FLAG|\n",
            "+-------------------------------+------------+\n",
            "|(7,[0,2],[1.0,2399.0])         |0           |\n",
            "|(7,[0,2],[1.0,2199.0])         |0           |\n",
            "|(7,[0,2],[1.0,2599.0])         |0           |\n",
            "|(7,[0,1,2],[1.0,300.0,1888.95])|0           |\n",
            "|(7,[0,2],[1.0,1799.0])         |0           |\n",
            "+-------------------------------+------------+\n",
            "only showing top 5 rows\n",
            "\n"
          ]
        }
      ]
    },
    {
      "cell_type": "markdown",
      "source": [
        "##Train-Test Split\n",
        "We'll split the dataset into training and testing sets."
      ],
      "metadata": {
        "id": "dyDHKHzJREXG"
      }
    },
    {
      "cell_type": "code",
      "source": [
        "# Split the data into training and testing sets (80% training, 20% testing)\n",
        "train_data, test_data = model_data.randomSplit([0.8, 0.2], seed=12345)\n",
        "\n",
        "train_data.show(5)\n"
      ],
      "metadata": {
        "colab": {
          "base_uri": "https://localhost:8080/"
        },
        "id": "5wYvW5RHUw49",
        "outputId": "8ac871d0-0162-4950-f6de-13add5e3e6e5"
      },
      "execution_count": null,
      "outputs": [
        {
          "output_type": "stream",
          "name": "stdout",
          "text": [
            "+--------------------+------------+\n",
            "|        _newfeatures|ANOMALY_FLAG|\n",
            "+--------------------+------------+\n",
            "|           (7,[],[])|           0|\n",
            "|(7,[0,1,2],[-1.0,...|           1|\n",
            "|(7,[0,1,2],[-1.0,...|           1|\n",
            "|(7,[0,1,2],[-1.0,...|           1|\n",
            "|(7,[0,1,2],[-1.0,...|           1|\n",
            "+--------------------+------------+\n",
            "only showing top 5 rows\n",
            "\n"
          ]
        }
      ]
    },
    {
      "source": [
        "model_data = df.select(\"_newfeatures\", col(\"ANOMALY_FLAG\").alias(\"label\"))"
      ],
      "cell_type": "code",
      "metadata": {
        "id": "p5RygsyHOIdT"
      },
      "execution_count": null,
      "outputs": []
    },
    {
      "cell_type": "code",
      "source": [
        "\n",
        "\n",
        "#Creating a binary label based on 'ANOMALY_FLAG'\n",
        "df = df.withColumn(\"label\", col(\"ANOMALY_FLAG\"))\n",
        "\n",
        "# Selecting final dataset for modeling\n",
        "model_data = df.select(\"_newfeatures\", \"label\")\n"
      ],
      "metadata": {
        "id": "qrqkLV6jYUW-"
      },
      "execution_count": null,
      "outputs": []
    },
    {
      "cell_type": "code",
      "source": [
        "# Initializing Decision Tree Classifier\n",
        "dt_classifier = DecisionTreeClassifier(labelCol=\"label\", featuresCol=\"_newfeatures\")\n",
        "\n",
        "# Spliting the data into training and testing sets\n",
        "train_data, test_data = model_data.randomSplit([0.8, 0.2], seed=42)\n",
        "\n",
        "# Training the model\n",
        "dt_model = dt_classifier.fit(train_data)\n",
        "\n",
        "# Making predictions on the test data\n",
        "dt_predictions = dt_model.transform(test_data)\n",
        "\n",
        "dt_predictions.select(\"_newfeatures\", \"label\", \"prediction\").show(10)\n"
      ],
      "metadata": {
        "colab": {
          "base_uri": "https://localhost:8080/"
        },
        "id": "ieExN3h1S44S",
        "outputId": "15670a03-9eb5-4b2f-c202-5ad7dfa3fb46"
      },
      "execution_count": null,
      "outputs": [
        {
          "output_type": "stream",
          "name": "stdout",
          "text": [
            "+--------------------+-----+----------+\n",
            "|        _newfeatures|label|prediction|\n",
            "+--------------------+-----+----------+\n",
            "|(7,[0,1,2],[-1.0,...|    1|       0.0|\n",
            "|(7,[0,1,2],[-1.0,...|    1|       0.0|\n",
            "|(7,[0,1,2],[-1.0,...|    1|       0.0|\n",
            "|(7,[0,1,2],[-1.0,...|    1|       0.0|\n",
            "|(7,[0,1,2],[-1.0,...|    1|       0.0|\n",
            "|(7,[0,1,2],[-1.0,...|    1|       0.0|\n",
            "|(7,[0,1,2],[-1.0,...|    1|       0.0|\n",
            "|(7,[0,1,2],[-1.0,...|    1|       0.0|\n",
            "|(7,[0,1,2],[-1.0,...|    1|       0.0|\n",
            "|(7,[0,1,2],[-1.0,...|    1|       0.0|\n",
            "+--------------------+-----+----------+\n",
            "only showing top 10 rows\n",
            "\n"
          ]
        }
      ]
    },
    {
      "source": [
        "\n",
        "feature_cols = [\"QTY\", \"DISCOUNT\", \"NET AMT\", \"HIGH_VALUE_ORDER\", \"HIGH_DISCOUNT\", \"NET AMT\", \"ANOMALY_FLAG\"]\n",
        "\n",
        "# Using VectorAssembler to combine feature columns into a single feature vector\n",
        "assembler = VectorAssembler(inputCols=feature_cols, outputCol=\"_features__\")\n",
        "df = assembler.transform(df)\n",
        "#(1 for fraud, 0 for non-fraud)\n",
        "model_data = df.select(\"_features__\", col(\"ANOMALY_FLAG\").alias(\"label\"))"
      ],
      "cell_type": "code",
      "metadata": {
        "id": "xs9hyjFp_TDj"
      },
      "execution_count": null,
      "outputs": []
    },
    {
      "cell_type": "code",
      "source": [
        "# Feature 1: Flagging high quantity orders\n",
        "df = df.withColumn(\"high_quantity_order\", when(col(\"QTY\") > 100, 1).otherwise(0))  # Threshold can be adjusted\n",
        "\n",
        "# Feature 2: Flagging high discounts\n",
        "df = df.withColumn(\"high_discount\", when(col(\"DISCOUNT\") > 50, 1).otherwise(0))  # Threshold as needed\n",
        "\n",
        "# Feature 3: Flagging high-value transactions based on NET AMT\n",
        "df = df.withColumn(\"high_net_amount\", when(col(\"NET AMT\") > 10000, 1).otherwise(0))  # Adjust threshold\n",
        "\n",
        "# Fill missing values in numeric columns with 0\n",
        "df = df.na.fill(0, subset=[\"DISCOUNT\", \"NET AMT\", \"QTY\"])\n",
        "\n",
        "# Show the updated dataset with new features\n",
        "df.select(\"QTY\", \"DISCOUNT\", \"NET AMT\", \"high_quantity_order\", \"high_discount\", \"high_net_amount\").show(5)\n"
      ],
      "metadata": {
        "id": "DMCSvrG0uHzT",
        "colab": {
          "base_uri": "https://localhost:8080/"
        },
        "outputId": "6ecdc58a-33b1-4523-9ad8-78a7c533d5e3"
      },
      "execution_count": null,
      "outputs": [
        {
          "output_type": "stream",
          "name": "stdout",
          "text": [
            "+---+--------+-------+-------------------+-------------+---------------+\n",
            "|QTY|DISCOUNT|NET AMT|high_quantity_order|high_discount|high_net_amount|\n",
            "+---+--------+-------+-------------------+-------------+---------------+\n",
            "|  1|     0.0| 2399.0|                  0|            0|              0|\n",
            "|  1|     0.0| 2199.0|                  0|            0|              0|\n",
            "|  1|     0.0| 2599.0|                  0|            0|              0|\n",
            "|  1|   300.0|1888.95|                  0|            1|              0|\n",
            "|  1|     0.0| 1799.0|                  0|            0|              0|\n",
            "+---+--------+-------+-------------------+-------------+---------------+\n",
            "only showing top 5 rows\n",
            "\n"
          ]
        }
      ]
    },
    {
      "cell_type": "markdown",
      "source": [
        "##Train-Test Split"
      ],
      "metadata": {
        "id": "VJKk578ssp_k"
      }
    },
    {
      "cell_type": "markdown",
      "source": [],
      "metadata": {
        "id": "Uy9jc24tstXX"
      }
    },
    {
      "cell_type": "code",
      "source": [
        "# Split the data into training and testing sets (80% training, 20% testing)\n",
        "train_data, test_data = model_data.randomSplit([0.8, 0.2], seed=42)\n",
        "\n",
        "# Show some training data samples\n",
        "train_data.show(5)\n"
      ],
      "metadata": {
        "colab": {
          "base_uri": "https://localhost:8080/"
        },
        "id": "THdVgHRHGw6l",
        "outputId": "5f301de0-f7a9-4a54-d1cb-47a82d499c9a"
      },
      "execution_count": null,
      "outputs": [
        {
          "output_type": "stream",
          "name": "stdout",
          "text": [
            "+--------------------+-----+\n",
            "|         _features__|label|\n",
            "+--------------------+-----+\n",
            "|           (7,[],[])|    0|\n",
            "|(7,[0,1,4],[-1.0,...|    0|\n",
            "|(7,[0,1,4],[-1.0,...|    0|\n",
            "|(7,[0,1,4],[-1.0,...|    0|\n",
            "|(7,[0,1,4],[-1.0,...|    0|\n",
            "+--------------------+-----+\n",
            "only showing top 5 rows\n",
            "\n"
          ]
        }
      ]
    },
    {
      "cell_type": "markdown",
      "source": [
        "##Decision Tree Classifier"
      ],
      "metadata": {
        "id": "U3a43h_Esx8h"
      }
    },
    {
      "cell_type": "code",
      "source": [
        "# Creating a Decision Tree Classifier\n",
        "dt = DecisionTreeClassifier(labelCol=\"label\", featuresCol=\"_features__\")\n",
        "\n",
        "# Training the Decision Tree model\n",
        "dt_model = dt.fit(train_data)\n",
        "\n",
        "# Making predictions on the test data\n",
        "dt_predictions = dt_model.transform(test_data)\n",
        "\n",
        "dt_predictions.select(\"label\", \"prediction\", \"_features__\").show(5)\n"
      ],
      "metadata": {
        "id": "5HDvzdxgt_2-",
        "colab": {
          "base_uri": "https://localhost:8080/"
        },
        "outputId": "bf36fb3c-19d5-41a4-dc00-a0e10a2b02cf"
      },
      "execution_count": null,
      "outputs": [
        {
          "output_type": "stream",
          "name": "stdout",
          "text": [
            "+-----+----------+--------------------+\n",
            "|label|prediction|         _features__|\n",
            "+-----+----------+--------------------+\n",
            "|    0|       0.0|(7,[0,1,4],[-1.0,...|\n",
            "|    0|       0.0|(7,[0,1,4],[-1.0,...|\n",
            "|    0|       0.0|(7,[0,1,4],[-1.0,...|\n",
            "|    0|       0.0|(7,[0,1,4],[1.0,3...|\n",
            "|    0|       0.0|(7,[0,1,4],[1.0,4...|\n",
            "+-----+----------+--------------------+\n",
            "only showing top 5 rows\n",
            "\n"
          ]
        }
      ]
    },
    {
      "cell_type": "markdown",
      "source": [
        "##Random Forest Classifier"
      ],
      "metadata": {
        "id": "Og0XYQyDthlm"
      }
    },
    {
      "cell_type": "code",
      "source": [
        "# Creating a Random Forest Classifier\n",
        "rf = RandomForestClassifier(labelCol=\"label\", featuresCol=\"_features__\", numTrees=100)\n",
        "\n",
        "# Training the Random Forest model\n",
        "rf_model = rf.fit(train_data)\n",
        "\n",
        "# Making predictions on the test data\n",
        "rf_predictions = rf_model.transform(test_data)\n",
        "\n",
        "rf_predictions.select(\"label\", \"prediction\", \"_features__\").show(5)\n"
      ],
      "metadata": {
        "colab": {
          "base_uri": "https://localhost:8080/"
        },
        "id": "Ue-qqjqWs4mv",
        "outputId": "d113dead-3f3d-49e9-b929-86c5b95de31f"
      },
      "execution_count": null,
      "outputs": [
        {
          "output_type": "stream",
          "name": "stdout",
          "text": [
            "+-----+----------+--------------------+\n",
            "|label|prediction|         _features__|\n",
            "+-----+----------+--------------------+\n",
            "|    0|       0.0|(7,[0,1,4],[-1.0,...|\n",
            "|    0|       0.0|(7,[0,1,4],[-1.0,...|\n",
            "|    0|       0.0|(7,[0,1,4],[-1.0,...|\n",
            "|    0|       0.0|(7,[0,1,4],[1.0,3...|\n",
            "|    0|       0.0|(7,[0,1,4],[1.0,4...|\n",
            "+-----+----------+--------------------+\n",
            "only showing top 5 rows\n",
            "\n"
          ]
        }
      ]
    },
    {
      "cell_type": "code",
      "source": [
        "# Evaluator for Decision Tree\n",
        "evaluator = MulticlassClassificationEvaluator(labelCol=\"label\", predictionCol=\"prediction\", metricName=\"accuracy\")\n",
        "dt_accuracy = evaluator.evaluate(dt_predictions)\n",
        "print(f\"Decision Tree Accuracy: {dt_accuracy}\")\n",
        "\n",
        "# Evaluator for Random Forest\n",
        "rf_accuracy = evaluator.evaluate(rf_predictions)\n",
        "print(f\"Random Forest Accuracy: {rf_accuracy}\")\n"
      ],
      "metadata": {
        "id": "xWDlmBc4tlmj",
        "colab": {
          "base_uri": "https://localhost:8080/"
        },
        "outputId": "6115c41b-35db-43c6-c1f4-daaf6ac452cb"
      },
      "execution_count": null,
      "outputs": [
        {
          "output_type": "stream",
          "name": "stdout",
          "text": [
            "Decision Tree Accuracy: 1.0\n",
            "Random Forest Accuracy: 1.0\n"
          ]
        }
      ]
    },
    {
      "cell_type": "code",
      "source": [
        "# ParamGrid for Random Forest\n",
        "paramGrid = (ParamGridBuilder()\n",
        "             .addGrid(rf.numTrees, [50, 100, 200])\n",
        "             .addGrid(rf.maxDepth, [5, 10, 20])\n",
        "             .build())\n",
        "\n",
        "# CrossValidator for tuning\n",
        "crossval = CrossValidator(estimator=rf, estimatorParamMaps=paramGrid,\n",
        "                          evaluator=evaluator, numFolds=3)\n",
        "\n",
        "# Training the model with cross-validation\n",
        "cv_model = crossval.fit(train_data)\n",
        "\n",
        "# Predictions with tuned model\n",
        "cv_predictions = cv_model.transform(test_data)\n",
        "cv_accuracy = evaluator.evaluate(cv_predictions)\n",
        "print(f\"Tuned Random Forest Accuracy: {cv_accuracy}\")\n"
      ],
      "metadata": {
        "id": "HwUPZYkUto_V",
        "colab": {
          "base_uri": "https://localhost:8080/"
        },
        "outputId": "4558bbf8-ecfd-4955-9b75-b0dadf0cc74c"
      },
      "execution_count": null,
      "outputs": [
        {
          "output_type": "stream",
          "name": "stdout",
          "text": [
            "Tuned Random Forest Accuracy: 1.0\n"
          ]
        }
      ]
    },
    {
      "cell_type": "markdown",
      "source": [
        "******************************"
      ],
      "metadata": {
        "id": "ONxE8lpKOtUt"
      }
    },
    {
      "cell_type": "code",
      "source": [
        "df.columns"
      ],
      "metadata": {
        "colab": {
          "base_uri": "https://localhost:8080/"
        },
        "id": "aU830ZK5ghVr",
        "outputId": "63891d51-7d55-4282-8349-ac855f82c917"
      },
      "execution_count": null,
      "outputs": [
        {
          "output_type": "execute_result",
          "data": {
            "text/plain": [
              "Index(['SORG', 'REGION', 'STATE', 'CHANNEL', 'BILLING TYPE', 'STORE CODE',\n",
              "       'NAME', 'INVOICE NOS', 'DATE', 'DAY', 'BRAND', 'SUB BRAND',\n",
              "       'MATERIAL TYPE', 'STYLE CODE', 'SIZE', 'SLEEVE', 'BASIC/CORE', 'COLOUR',\n",
              "       'SEASON', 'GENDER', 'SUPPLIER STYLE', 'SUPPLIER SIZE', 'BARCODE', 'QTY',\n",
              "       'UNIT MRP', 'MRP', 'DISCOUNT', 'MANUALDISC REASON', 'MANUALDISC REMARK',\n",
              "       'SCHEME REASON', 'TAXABLE AMT', 'TAX RATE', 'TAX AMT', 'NET AMT'],\n",
              "      dtype='object')"
            ]
          },
          "metadata": {},
          "execution_count": 8
        }
      ]
    },
    {
      "cell_type": "code",
      "source": [
        "df.info()"
      ],
      "metadata": {
        "colab": {
          "base_uri": "https://localhost:8080/"
        },
        "id": "C9en80Gagp_E",
        "outputId": "d72ba999-3525-475a-f78a-048c5c29a7db"
      },
      "execution_count": null,
      "outputs": [
        {
          "output_type": "stream",
          "name": "stdout",
          "text": [
            "<class 'pandas.core.frame.DataFrame'>\n",
            "RangeIndex: 859032 entries, 0 to 859031\n",
            "Data columns (total 34 columns):\n",
            " #   Column             Non-Null Count   Dtype  \n",
            "---  ------             --------------   -----  \n",
            " 0   SORG               859030 non-null  object \n",
            " 1   REGION             762881 non-null  object \n",
            " 2   STATE              766972 non-null  object \n",
            " 3   CHANNEL            859031 non-null  object \n",
            " 4   BILLING TYPE       859031 non-null  object \n",
            " 5   STORE CODE         859031 non-null  float64\n",
            " 6   NAME               859031 non-null  object \n",
            " 7   INVOICE NOS        859031 non-null  object \n",
            " 8   DATE               859031 non-null  object \n",
            " 9   DAY                859031 non-null  object \n",
            " 10  BRAND              859031 non-null  object \n",
            " 11  SUB BRAND          9040 non-null    object \n",
            " 12  MATERIAL TYPE      859031 non-null  object \n",
            " 13  STYLE CODE         859031 non-null  object \n",
            " 14  SIZE               859031 non-null  object \n",
            " 15  SLEEVE             549268 non-null  object \n",
            " 16  BASIC/CORE         859031 non-null  object \n",
            " 17  COLOUR             730304 non-null  object \n",
            " 18  SEASON             859031 non-null  object \n",
            " 19  GENDER             859031 non-null  object \n",
            " 20  SUPPLIER STYLE     859031 non-null  object \n",
            " 21  SUPPLIER SIZE      859031 non-null  object \n",
            " 22  BARCODE            859031 non-null  float64\n",
            " 23  QTY                859031 non-null  float64\n",
            " 24  UNIT MRP           859031 non-null  float64\n",
            " 25  MRP                859031 non-null  float64\n",
            " 26  DISCOUNT           859031 non-null  float64\n",
            " 27  MANUALDISC REASON  298719 non-null  object \n",
            " 28  MANUALDISC REMARK  125162 non-null  object \n",
            " 29  SCHEME REASON      174493 non-null  object \n",
            " 30  TAXABLE AMT        859031 non-null  float64\n",
            " 31  TAX RATE           859031 non-null  float64\n",
            " 32  TAX AMT            859031 non-null  float64\n",
            " 33  NET AMT            859031 non-null  float64\n",
            "dtypes: float64(10), object(24)\n",
            "memory usage: 222.8+ MB\n"
          ]
        }
      ]
    },
    {
      "cell_type": "code",
      "source": [
        "df['DATE'].unique()"
      ],
      "metadata": {
        "colab": {
          "base_uri": "https://localhost:8080/"
        },
        "id": "GTH-8GIUgvNi",
        "outputId": "c149d2db-8d0d-41f0-b3e9-d4a128b08d55"
      },
      "execution_count": null,
      "outputs": [
        {
          "output_type": "execute_result",
          "data": {
            "text/plain": [
              "array(['01/01/2015', '01/02/2015', '01/03/2015', '01/04/2015',\n",
              "       '01/05/2015', '01/06/2015', '01/07/2015', '01/08/2015',\n",
              "       '01/09/2015', '01/10/2015', '01/11/2015', '01/12/2015',\n",
              "       '01/13/2015', '01/14/2015', '01/15/2015', '01/16/2015',\n",
              "       '01/17/2015', '01/18/2015', '01/19/2015', '01/20/2015',\n",
              "       '01/21/2015', '01/22/2015', '01/23/2015', '01/24/2015',\n",
              "       '01/25/2015', '01/26/2015', '01/27/2015', '01/28/2015',\n",
              "       '01/29/2015', '01/30/2015', '01/31/2015', '02/01/2015',\n",
              "       '02/02/2015', '02/03/2015', '02/04/2015', '02/05/2015',\n",
              "       '02/06/2015', '02/07/2015', '02/08/2015', '02/09/2015',\n",
              "       '02/10/2015', '02/11/2015', '02/12/2015', '02/13/2015',\n",
              "       '02/14/2015', '02/15/2015', '02/16/2015', '02/17/2015',\n",
              "       '02/18/2015', '02/19/2015', '02/20/2015', '02/21/2015',\n",
              "       '02/22/2015', '02/23/2015', '02/24/2015', '02/25/2015',\n",
              "       '02/26/2015', '02/27/2015', '02/28/2015', '03/01/2015',\n",
              "       '03/02/2015', '03/03/2015', '03/04/2015', '03/05/2015',\n",
              "       '03/06/2015', '03/07/2015', '03/08/2015', '03/09/2015',\n",
              "       '03/10/2015', '03/11/2015', '03/12/2015', '03/13/2015',\n",
              "       '03/14/2015', '03/15/2015', '03/16/2015', '03/17/2015',\n",
              "       '03/18/2015', '03/19/2015', '03/20/2015', '03/21/2015',\n",
              "       '03/22/2015', '03/23/2015', '03/24/2015', '03/25/2015',\n",
              "       '03/26/2015', '03/27/2015', '03/28/2015', '03/29/2015',\n",
              "       '03/30/2015', '03/31/2015', '04/01/2015', '04/02/2015',\n",
              "       '04/03/2015', '04/04/2015', '04/05/2015', '04/06/2015',\n",
              "       '04/07/2015', '04/08/2015', '04/09/2015', '04/10/2015',\n",
              "       '04/11/2015', '04/12/2015', '04/13/2015', '04/14/2015',\n",
              "       '04/15/2015', '04/16/2015', '04/17/2015', '04/18/2015',\n",
              "       '04/19/2015', '04/20/2015', '04/21/2015', '04/22/2015',\n",
              "       '04/23/2015', '04/24/2015', '04/25/2015', '04/26/2015',\n",
              "       '04/27/2015', '04/28/2015', '04/29/2015', '04/30/2015',\n",
              "       '05/01/2015', '05/02/2015', '05/03/2015', '05/04/2015',\n",
              "       '05/05/2015', '05/06/2015', '05/07/2015', '05/08/2015',\n",
              "       '05/09/2015', '05/10/2015', '05/11/2015', '05/12/2015',\n",
              "       '05/13/2015', '05/14/2015', '05/15/2015', '05/16/2015',\n",
              "       '05/17/2015', '05/18/2015', '05/19/2015', '05/20/2015',\n",
              "       '05/21/2015', '05/22/2015', '05/23/2015', '05/24/2015',\n",
              "       '05/25/2015', '05/26/2015', '05/27/2015', '05/28/2015',\n",
              "       '05/29/2015', '05/30/2015', '05/31/2015', '06/01/2015',\n",
              "       '06/02/2015', '06/03/2015', '06/04/2015', '06/05/2015',\n",
              "       '06/06/2015', '06/07/2015', '06/08/2015', '06/09/2015',\n",
              "       '06/10/2015', '06/11/2015', '06/12/2015', '06/13/2015',\n",
              "       '06/14/2015', '06/15/2015', '06/16/2015', '06/17/2015',\n",
              "       '06/18/2015', '06/19/2015', '06/20/2015', '06/21/2015',\n",
              "       '06/22/2015', '06/23/2015', '06/24/2015', '06/25/2015',\n",
              "       '06/26/2015', '06/27/2015', '06/28/2015', '06/29/2015',\n",
              "       '06/30/2015', nan, '40692', '40693', '40694', '40695', '40696',\n",
              "       '40697', '40698', '40699', '40700', '40701', '40702', '40703',\n",
              "       '40704', '40705', '40706', '40707', '40708', '40709', '40710',\n",
              "       '40711', '40712', '40713', '40714', '40715', '40716', '40717',\n",
              "       '40718', '40719', '40720', '40721', '40722', '40723', '40543',\n",
              "       '40545', '40546', '40548', '40549', '40550', '40551', '40555',\n",
              "       '40556', '40557', '40558', '40559', '40560', '40561', '40562',\n",
              "       '40563', '40564', '40566', '40567', '40568', '40569', '40573',\n",
              "       '40576', '40577', '40580', '40581', '40582', '40583', '40584',\n",
              "       '40585', '40586', '40587', '40588', '40589', '40591', '40592',\n",
              "       '40593', '40594', '40595', '40596', '40599', '40600', '40605',\n",
              "       '40606', '40608', '40612', '40613', '40616', '40618', '40620',\n",
              "       '40621', '40622', '40623', '40625', '40630', '40631', '40634',\n",
              "       '40635', '40636', '40639', '40640', '40641', '40642', '40645',\n",
              "       '40646', '40647', '40648', '40649', '40651', '40654', '40655',\n",
              "       '40656', '40658', '40659', '40661', '40664', '40665', '40668',\n",
              "       '40669', '40671', '40672', '40673', '40674', '40675', '40676',\n",
              "       '40678', '40679', '40680', '40681', '40682', '40683', '40686',\n",
              "       '40689', '40544', '40547', '40552', '40553', '40554', '40565',\n",
              "       '40570', '40571', '40572', '40574', '40575', '40578', '40579',\n",
              "       '40590', '40597', '40598', '40601', '40602', '40603', '40604',\n",
              "       '40607', 40608, 40609, 40610, 40611, 40612, 40613, 40614, 40615,\n",
              "       40616, 40617, 40618, 40619, 40620, 40621, 40622, 40623, 40624,\n",
              "       40625, 40626, 40627, 40628, 40629, 40630, 40631, 40632, 40633,\n",
              "       40634, 40635, 40636, 40637, 40638, 40639, 40640, 40641, 40642,\n",
              "       40643, 40644, 40645, 40646, 40647, 40648, 40649, 40650, 40651,\n",
              "       40652, 40653, 40654, 40655, 40656, 40657, 40658, 40659, 40660,\n",
              "       40661, 40662, 40663, 40664, 40665, 40666, 40667, 40668, 40669,\n",
              "       40670, 40671, 40672, 40673, 40674, 40675, 40676, 40677, 40678,\n",
              "       40679, 40680, 40681, 40682, 40683, 40684, 40685, 40686, 40687,\n",
              "       40688, 40689, 40690, 40691, 40692, 40693, 40694, 40695, 40696,\n",
              "       40697, 40698, 40699, 40700, 40701, 40702, 40703, 40704, 40705,\n",
              "       40706, 40707, 40708, 40709, 40710, 40711, 40712, 40713, 40714,\n",
              "       40715, 40716, 40717, 40718, 40719, 40720, 40721, 40722, 40723,\n",
              "       40543, 40544, 40545, 40546, 40547, 40548, 40549, 40550, 40551,\n",
              "       40552, 40553, 40554, 40555, 40556, 40557, 40560, 40561, 40562,\n",
              "       40563, 40565, 40567, 40569, 40570, 40571, 40573, 40574, 40575,\n",
              "       40576, 40577, 40579, 40580, 40581, 40582, 40584, 40585, 40586,\n",
              "       40587, 40588, 40589, 40590, 40591, 40592, 40594, 40596, 40597,\n",
              "       40598, 40601, 40602, 40603, 40604, 40605, 40606, 40558, 40559,\n",
              "       40564, 40566, 40568, 40572, 40578, 40583, 40593, 40595, 40599,\n",
              "       40600, 40607], dtype=object)"
            ]
          },
          "metadata": {},
          "execution_count": 10
        }
      ]
    },
    {
      "cell_type": "code",
      "source": [
        "df['NAME'].unique()"
      ],
      "metadata": {
        "colab": {
          "base_uri": "https://localhost:8080/"
        },
        "id": "Z_wUEOjyhMSH",
        "outputId": "3cf49a7f-8106-436f-91a9-8e1b2c654ce9"
      },
      "execution_count": null,
      "outputs": [
        {
          "output_type": "execute_result",
          "data": {
            "text/plain": [
              "array(['US - SHAILIJA SHOPPERS KOLKATA',\n",
              "       'US - DHUPAR AGENCIES BHUBANESHWAR',\n",
              "       'US - SHAILIJA SHOPPERS KOLKATTA',\n",
              "       'US - SHAILJA SHOPPERS PVT LTD KOLKATTA',\n",
              "       'US - SARITA SUMEDHA PATNA', 'US - INDERA TEXTILES ROURKELA',\n",
              "       'US - ALBL SALT LAKE KOLKATA', 'US - ABK COMMERCIAL KOLKATA',\n",
              "       ' US - MENS ABK COMMERCIAL KOLKATA',\n",
              "       'US - ALBL QUEST MALL KOLKATA', 'US - SHAILAJA SHOPPERS KOLKATA',\n",
              "       'FM - CRYSTAL COURT', 'FM - LAJPATNAGAR', 'FM - GLAMOURFASHION',\n",
              "       'US - MAHAGUN  METRO MALL VISHALI', 'US - SOUTH EXTENSION DELHI',\n",
              "       'US - Z SQUARE KANPUR', 'CA - SAMARTH LIFE STYLE PACIFIC MALL',\n",
              "       'US - H G Retail Solution NewDelhi',\n",
              "       'US - HG RETAILJAWAHAR NAGAR DELHI', 'US - H.G.Retail Noida',\n",
              "       'US-GULATI SECTOR-17 CHANDIGARH', 'US-HG RETAIL DWARAKA DELHI',\n",
              "       'US-FRONTLINE RETAIL CROWN MALL FARIDABAD',\n",
              "       'US-FRONTLINE RETAIL USPA AGRA',\n",
              "       'US-FRONTLINE V3S EAST CENTRE MALL', 'US-SHIVAS SPORTS GHAZIABAD',\n",
              "       'US-BARGOTI RETAIL HARIDWAR',\n",
              "       'US - RAJAT TARUN ENTERPRISES BAREILLY',\n",
              "       'FM-HG RETAIL SOLUTIONS SAHARANPUR',\n",
              "       'US - SAMARTH LIFESTYLE GURGAON', 'US - ALBL GIP NOIDA',\n",
              "       'FM - ALBL JANAKPURI DELHI', 'US - SAMARTH LIFESTYLE JAIPUR',\n",
              "       'US - SAMARTH LIFESTYLE KOTA', 'US - ALBL RAJPUR ROAD DEHRADUN',\n",
              "       nan, 'US - ALBL CONNAUGHT PLACE DELHI',\n",
              "       'US - SELECT INFRASTRUCTURE DELHI',\n",
              "       'US - HG RETAIL SOLUTIONS RUDRAPUR',\n",
              "       'FM - HG RETAIL CROSS ROAD MALL DEHRADUN',\n",
              "       'US - SELECT INFRASTRUCTURE PVT LTD DELHI',\n",
              "       'US - HG RETAIL SOLUTIONS NAINITAL',\n",
              "       'UB4-108540 US - SAMARTH LIFESTYLE RETAIL',\n",
              "       'CA - STUTI RETAILS HAZRATGANJ LUCKNOW',\n",
              "       'HG RETAIL SOLUTIONS PVT LTD-HALDWANI', 'US - ALBL KAROLBAGH',\n",
              "       'US - N J FASHIONS NOIDA', 'US - SHREE SAI READYMADE DEHRADUN',\n",
              "       'US - H.G.RETAIL SOLUTIONS KASHIPUR',\n",
              "       'CA - H & S ENTERPRISES DELHI', 'US - BHUMI APPARELS RISHIKESH',\n",
              "       'US - VISHAV LIFESTYLE GANGANAGAR', 'US - JVS ENTERPRISES DELHI',\n",
              "       'US - GOLDEN HERITAGE DELHI', 'US - CHERRIE GEMS PVT LTD ROORKEE',\n",
              "       'US - ALBL WESTGATE DELHI', 'US - RP LIFESTYLE JODHPUR',\n",
              "       'US - RP LIFESTYLE UDAIPUR', 'US - SAMARTH LIFESTYLE DLF GURGOAN',\n",
              "       'US - ARVIND LIFESTYLE BRANDS LTD-DWARKA',\n",
              "       'FM - ABRAR A K HIMAYATH', 'FM - PCH KARIMNAGAR',\n",
              "       'FM - PCH GUNTUR', 'CA - BANJARAHILLS', 'US - FORUM MALL',\n",
              "       'US - KAKARAI', 'US - POLO BEYOND LIMITS',\n",
              "       'US - PCH JUBILEE HILLS HYDERABAD',\n",
              "       'US - AHAD COLLECTION BANGALORE', 'US - INDIRA NAGAR',\n",
              "       'FM - PCH LIFESTYLE VIJAYAWADA', 'CA - HRBR LAYOUT- BANGALORE',\n",
              "       'US - PCH LIFESTYLE DILLSHUKNAGAR',\n",
              "       'US - PCH LIFESTYLE PVT LTD-Himayat Nagar',\n",
              "       'US-PCH LIFESTYLE PVT LTD KHARKHANA',\n",
              "       'US-A NEW LIFE FASHION KADAPA', 'US-K K INCORPORATED BANGALORE',\n",
              "       'US-PCH LIFESTYLE HANAMKONDA WARANGAL',\n",
              "       'US - ALBL BRIGADEROAD BANGALORE',\n",
              "       'US-ALBL PHOENIX MARKET BANGALORE',\n",
              "       'US-ALBL SIGNATURE MALL BANGALORE',\n",
              "       'US-PCH LIFESTYLE TOLI CHOWKI HYDERABAD',\n",
              "       'US-ALBL GVK ONE HYDERABAD', 'EE - FORUM BANGALORE',\n",
              "       'US-ALBL ORION MALL BANGALORE',\n",
              "       'US - A NEW LIFE FASHION ANANTAPUR',\n",
              "       'US - AHAD FASHIONS BANGALORE',\n",
              "       'US - ALBL FORUM VALUE MALL BANGALORE',\n",
              "       'US - ALBL INORBIT MALL BANGALORE', 'US - ALBL GARUDA MYSROE',\n",
              "       'US - BUY BEST COIMBATORE', 'US - ALBL JAYANAGAR',\n",
              "       'US - PURACKAL FASHIONS KOTTAYAM',\n",
              "       'US - ALBL PHOENIX MARKET CITY CHENNAI',\n",
              "       'UB - SHREE BALAJI DRESSES HYDERABAD',\n",
              "       'US - ACCENT LIFESTYLES COCHIN', 'US - PURPLE FASHION KURNOOL',\n",
              "       'US - PVK TEXTILES KHAMMAM', 'US - ALBL FORUM VIJAYA MALL CHENNAI',\n",
              "       'US -SAPTHAGIRI MENSÊEXCLUSIVE  HYDERABAD',\n",
              "       'US - ALBL EXPRESS AVENUE CHENNAI',\n",
              "       'US - KK INCORPORATED BANGALORE', 'US - PSR RETAIL TRIVANDRUM',\n",
              "       'US - SRI SRINIVASA MOBILES TIRUPATHI',\n",
              "       'US - CHITRALAYA MALL VISHAKHAPATNAM',\n",
              "       'US - IVORY ENTERPRISES BELLARY', 'US - ADITI LIFESTYLE BELGAUM',\n",
              "       ' US - CHIMMANI RAJYALAXMI KOTHAGUDUM',\n",
              "       'US - BHAWAR LIFESTYLE BANGALORE',\n",
              "       'US - ALBL 100FT INDIRANGAR BANGALORE',\n",
              "       'US - ACCENT GALERIA PERUMBAVOOR', 'US - SONI RETAIL HYDERBAD',\n",
              "       'US - BRANDPORT KANNUR', 'US - UDAYA LIFE STYLE NIZAMABAD',\n",
              "       'US - KRISHNA RETAIL HYDERABAD',\n",
              "       'US - ALBL PHOENIX MALL BANGALORE', 'US - ETHIX CLOTHING',\n",
              "       'US - ARROWHEAD', 'US - VAMA APPARELS INDIA PVT LTD',\n",
              "       'US - KLFASHIONS AHMADABAD', 'US - ETHIX CLOTHING PHOENIX PUNE',\n",
              "       'US-WHITE OCEAN BUSINESS VENTURE AHMEDABA',\n",
              "       'US-ALBL LINKING ROAD MUMBAI',\n",
              "       'US - ETHIX CLOTHING DB MALL BHOPAL',\n",
              "       'US - ALBL PALLADIUM MALL MUMBAI', 'CA - MYSTORE PVT LTD VADODARA',\n",
              "       'US-M.M. MARKETING KOLHAPUR', 'US - ALBL COLABA MUMBAI',\n",
              "       'US - ETHIX CLOTHING PANJIM GOA', 'US - ALBL R CITY MALL MUMBAI',\n",
              "       'US - ETHIX CLOTHING JABALPUR', 'US - ALBL INORBIT MALL THANE',\n",
              "       'US - ARIHANTH LIFESTYLE NASHIK', 'US - ALBL IN ORBIT MALL MUMBAI',\n",
              "       'US - ETHIX CLOTHING PUNE', 'US - ALBL PHOENIX PUNE',\n",
              "       'US - AD FABRICS BILASPUR', 'US - ETHIX CLOTHING VIVIANA THANE',\n",
              "       'US - FRESHICA MULTITRADE RAIPUR', 'Ethix Clothing',\n",
              "       'US - WHITE OCEAN  INORBIT VADODARA', 'US - ALBL  INORBIT PUNE',\n",
              "       'US - VIRTUOUS MALL SURAT(KIDS)', 'US - VIRTUOUS MALL SURAT',\n",
              "       'US - ETHIX CLOTHING  GWALIOR', 'US - ALBL PALLADIUM MUMBAI-KIDS',\n",
              "       'US - ALBL KORUM MALL THANE', 'US - ALBL INFINITI MALL MUMBAI',\n",
              "       'US - ALBL OBEROI MUMBAI', 'US - K L FASHIONS AHMEDABAD',\n",
              "       'US - ETHIX CLOTHING SEASONS PUNE',\n",
              "       'US - HARDIK ENTERPRISES RAIPUR',\n",
              "       'US - SAMARTH LIFESTYLE GHAZIABAD',\n",
              "       'US - SAMARTH LIFESTYLE TONK ROAD JAIPUR',\n",
              "       'US - SS ENTERPRISES JAIPUR', 'US - FR ASSOCIATES MANGALORE',\n",
              "       'FM - SK ENTERPRISES JAIPUR', 'US - YUKTI APPARELS GURGAON',\n",
              "       'US - LAVANYA APPARELS GAZIABAD', 'US - RIDHIMA FASHION HALDWANI',\n",
              "       'US - SRI LAKSHMI ENTERPRISES COIMBATORE',\n",
              "       'US - RAJAT ENTERPRISES BAREILLY',\n",
              "       'US - FASHION RETAIL CORP RAJAMUNDARY',\n",
              "       'US - HYPE RETAIL - BANGALORE', 'SHREE GANAPATI SALES - AJMER',\n",
              "       'US - VISHAV LIFESTYLE - GANGANAGAR', 'US - FRIENDS & COMPANY',\n",
              "       'US - UDAY INTERNATIONAL - JAIPUR',\n",
              "       'US - UDAY ARCHIT TRADELINK PVT.LTD',\n",
              "       'US - BR RETAIL INDIA - JUBILEE HILLS',\n",
              "       'US - BR RETAIL INDIA - KHARKHANA',\n",
              "       'US - BR RETAIL INDIA P LTD - KARIMNAGAR',\n",
              "       'US - BR RETAIL INDIA P LTD GUNTUR',\n",
              "       'US - BR RETAIL INDIA P LTD - VIJAYAWADA',\n",
              "       'US -  BR RETAIL INDIA P LTD - DILSUKHNAG',\n",
              "       'US - BR RETAIL INDIA PVT LTD - WARANGAL',\n",
              "       'US - BR RETAIL INDIA - Himayat Nagar',\n",
              "       'US -  HARDIK ENTERPRISES - RAIPUR', 'US - JAS RETAIL - NEW DELHI',\n",
              "       'US - SAMARTH LIFESTYLE RETAILING-VK',\n",
              "       'US - ARVIND LIFESTYLE BRANDS LTD- NOIDA',\n",
              "       'US - RIDHIMA FASHION HUF', 'US - KAKARAI - INC',\n",
              "       'US-ARVIND LIFESTYLE BRANDS LTD-SAHARAGAN',\n",
              "       'US - SAGA LIFESTYLE -JAIPUR\\t', 'US - PELICAN ATTITUDE - CALICUT',\n",
              "       'US - FIVE STAR APPARELS', 'US - RUDRA APPARELS\\t\\t',\n",
              "       'US - SRI LAKSHMI ENTERPRISES', 'US - Shubh Apparels-Hubli',\n",
              "       'US - SD MILLS LLP', 'US ARVIND LIFESTYLE BRANDS LTD TL'],\n",
              "      dtype=object)"
            ]
          },
          "metadata": {},
          "execution_count": 11
        }
      ]
    },
    {
      "cell_type": "code",
      "source": [
        "df.isnull().sum()"
      ],
      "metadata": {
        "colab": {
          "base_uri": "https://localhost:8080/",
          "height": 1000
        },
        "id": "_xb0E1VdhspI",
        "outputId": "ee05beb1-64bd-47ba-c2fe-42189dd908e5"
      },
      "execution_count": null,
      "outputs": [
        {
          "output_type": "execute_result",
          "data": {
            "text/plain": [
              "SORG                      2\n",
              "REGION                96151\n",
              "STATE                 92060\n",
              "CHANNEL                   1\n",
              "BILLING TYPE              1\n",
              "STORE CODE                1\n",
              "NAME                      1\n",
              "INVOICE NOS               1\n",
              "DATE                      1\n",
              "DAY                       1\n",
              "BRAND                     1\n",
              "SUB BRAND            849992\n",
              "MATERIAL TYPE             1\n",
              "STYLE CODE                1\n",
              "SIZE                      1\n",
              "SLEEVE               309764\n",
              "BASIC/CORE                1\n",
              "COLOUR               128728\n",
              "SEASON                    1\n",
              "GENDER                    1\n",
              "SUPPLIER STYLE            1\n",
              "SUPPLIER SIZE             1\n",
              "BARCODE                   1\n",
              "QTY                       1\n",
              "UNIT MRP                  1\n",
              "MRP                       1\n",
              "DISCOUNT                  1\n",
              "MANUALDISC REASON    560313\n",
              "MANUALDISC REMARK    733870\n",
              "SCHEME REASON        684539\n",
              "TAXABLE AMT               1\n",
              "TAX RATE                  1\n",
              "TAX AMT                   1\n",
              "NET AMT                   1\n",
              "dtype: int64"
            ],
            "text/html": [
              "<div>\n",
              "<style scoped>\n",
              "    .dataframe tbody tr th:only-of-type {\n",
              "        vertical-align: middle;\n",
              "    }\n",
              "\n",
              "    .dataframe tbody tr th {\n",
              "        vertical-align: top;\n",
              "    }\n",
              "\n",
              "    .dataframe thead th {\n",
              "        text-align: right;\n",
              "    }\n",
              "</style>\n",
              "<table border=\"1\" class=\"dataframe\">\n",
              "  <thead>\n",
              "    <tr style=\"text-align: right;\">\n",
              "      <th></th>\n",
              "      <th>0</th>\n",
              "    </tr>\n",
              "  </thead>\n",
              "  <tbody>\n",
              "    <tr>\n",
              "      <th>SORG</th>\n",
              "      <td>2</td>\n",
              "    </tr>\n",
              "    <tr>\n",
              "      <th>REGION</th>\n",
              "      <td>96151</td>\n",
              "    </tr>\n",
              "    <tr>\n",
              "      <th>STATE</th>\n",
              "      <td>92060</td>\n",
              "    </tr>\n",
              "    <tr>\n",
              "      <th>CHANNEL</th>\n",
              "      <td>1</td>\n",
              "    </tr>\n",
              "    <tr>\n",
              "      <th>BILLING TYPE</th>\n",
              "      <td>1</td>\n",
              "    </tr>\n",
              "    <tr>\n",
              "      <th>STORE CODE</th>\n",
              "      <td>1</td>\n",
              "    </tr>\n",
              "    <tr>\n",
              "      <th>NAME</th>\n",
              "      <td>1</td>\n",
              "    </tr>\n",
              "    <tr>\n",
              "      <th>INVOICE NOS</th>\n",
              "      <td>1</td>\n",
              "    </tr>\n",
              "    <tr>\n",
              "      <th>DATE</th>\n",
              "      <td>1</td>\n",
              "    </tr>\n",
              "    <tr>\n",
              "      <th>DAY</th>\n",
              "      <td>1</td>\n",
              "    </tr>\n",
              "    <tr>\n",
              "      <th>BRAND</th>\n",
              "      <td>1</td>\n",
              "    </tr>\n",
              "    <tr>\n",
              "      <th>SUB BRAND</th>\n",
              "      <td>849992</td>\n",
              "    </tr>\n",
              "    <tr>\n",
              "      <th>MATERIAL TYPE</th>\n",
              "      <td>1</td>\n",
              "    </tr>\n",
              "    <tr>\n",
              "      <th>STYLE CODE</th>\n",
              "      <td>1</td>\n",
              "    </tr>\n",
              "    <tr>\n",
              "      <th>SIZE</th>\n",
              "      <td>1</td>\n",
              "    </tr>\n",
              "    <tr>\n",
              "      <th>SLEEVE</th>\n",
              "      <td>309764</td>\n",
              "    </tr>\n",
              "    <tr>\n",
              "      <th>BASIC/CORE</th>\n",
              "      <td>1</td>\n",
              "    </tr>\n",
              "    <tr>\n",
              "      <th>COLOUR</th>\n",
              "      <td>128728</td>\n",
              "    </tr>\n",
              "    <tr>\n",
              "      <th>SEASON</th>\n",
              "      <td>1</td>\n",
              "    </tr>\n",
              "    <tr>\n",
              "      <th>GENDER</th>\n",
              "      <td>1</td>\n",
              "    </tr>\n",
              "    <tr>\n",
              "      <th>SUPPLIER STYLE</th>\n",
              "      <td>1</td>\n",
              "    </tr>\n",
              "    <tr>\n",
              "      <th>SUPPLIER SIZE</th>\n",
              "      <td>1</td>\n",
              "    </tr>\n",
              "    <tr>\n",
              "      <th>BARCODE</th>\n",
              "      <td>1</td>\n",
              "    </tr>\n",
              "    <tr>\n",
              "      <th>QTY</th>\n",
              "      <td>1</td>\n",
              "    </tr>\n",
              "    <tr>\n",
              "      <th>UNIT MRP</th>\n",
              "      <td>1</td>\n",
              "    </tr>\n",
              "    <tr>\n",
              "      <th>MRP</th>\n",
              "      <td>1</td>\n",
              "    </tr>\n",
              "    <tr>\n",
              "      <th>DISCOUNT</th>\n",
              "      <td>1</td>\n",
              "    </tr>\n",
              "    <tr>\n",
              "      <th>MANUALDISC REASON</th>\n",
              "      <td>560313</td>\n",
              "    </tr>\n",
              "    <tr>\n",
              "      <th>MANUALDISC REMARK</th>\n",
              "      <td>733870</td>\n",
              "    </tr>\n",
              "    <tr>\n",
              "      <th>SCHEME REASON</th>\n",
              "      <td>684539</td>\n",
              "    </tr>\n",
              "    <tr>\n",
              "      <th>TAXABLE AMT</th>\n",
              "      <td>1</td>\n",
              "    </tr>\n",
              "    <tr>\n",
              "      <th>TAX RATE</th>\n",
              "      <td>1</td>\n",
              "    </tr>\n",
              "    <tr>\n",
              "      <th>TAX AMT</th>\n",
              "      <td>1</td>\n",
              "    </tr>\n",
              "    <tr>\n",
              "      <th>NET AMT</th>\n",
              "      <td>1</td>\n",
              "    </tr>\n",
              "  </tbody>\n",
              "</table>\n",
              "</div><br><label><b>dtype:</b> int64</label>"
            ]
          },
          "metadata": {},
          "execution_count": 13
        }
      ]
    },
    {
      "cell_type": "code",
      "source": [
        "df.shape"
      ],
      "metadata": {
        "colab": {
          "base_uri": "https://localhost:8080/"
        },
        "id": "ob1i0IV_iE23",
        "outputId": "74e552ee-a4d2-4af8-d0e4-abcd7872271e"
      },
      "execution_count": null,
      "outputs": [
        {
          "output_type": "execute_result",
          "data": {
            "text/plain": [
              "(859032, 34)"
            ]
          },
          "metadata": {},
          "execution_count": 14
        }
      ]
    },
    {
      "cell_type": "code",
      "source": [
        "df['GENDER'].unique()"
      ],
      "metadata": {
        "colab": {
          "base_uri": "https://localhost:8080/"
        },
        "id": "5N2OzZiLjrm0",
        "outputId": "5922bfb5-1cfc-4ca8-ccc9-c1b08051ca0f"
      },
      "execution_count": null,
      "outputs": [
        {
          "output_type": "execute_result",
          "data": {
            "text/plain": [
              "array(['Mens', 'Women', 'Unisex', 'Boys', 'Girls', 'Promotional', nan],\n",
              "      dtype=object)"
            ]
          },
          "metadata": {},
          "execution_count": 16
        }
      ]
    },
    {
      "cell_type": "code",
      "source": [
        "df['BARCODE']"
      ],
      "metadata": {
        "id": "Jx-P5ecikF4R"
      },
      "execution_count": null,
      "outputs": []
    }
  ]
}